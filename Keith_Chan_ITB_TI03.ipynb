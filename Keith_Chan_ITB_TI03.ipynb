{
  "nbformat": 4,
  "nbformat_minor": 0,
  "metadata": {
    "colab": {
      "name": "Keith Chan_ITB_TI03.ipynb",
      "provenance": [],
      "collapsed_sections": []
    },
    "kernelspec": {
      "name": "python3",
      "display_name": "Python 3"
    },
    "language_info": {
      "name": "python"
    }
  },
  "cells": [
    {
      "cell_type": "markdown",
      "metadata": {
        "id": "Qfsd-CZY-4Dr"
      },
      "source": [
        "Management wants to find out which employee will likely resign from the company within the next six months. This is predictive analytics.\n",
        "\n",
        "Predictive analytics tells what is likely to happen. It uses the findings of descriptive and diagnostic analytics to detect clusters and exceptions, and to predict future trends, which makes it a valuable tool for forecasting."
      ]
    },
    {
      "cell_type": "code",
      "metadata": {
        "id": "0JPXE37O-7QM"
      },
      "source": [
        "#Keith Chan Xin Kok\n",
        "#S10193413E\n",
        "#International Trade and Business\n",
        "#TI03\n",
        "\n",
        "#import the excel sheet data and store it into a pandas DataFrames called 'data' \n",
        "import pandas as pd\n",
        "data = pd.read_excel('HR-Employee-Attrition(1).xlsx')"
      ],
      "execution_count": 110,
      "outputs": []
    },
    {
      "cell_type": "code",
      "metadata": {
        "colab": {
          "base_uri": "https://localhost:8080/",
          "height": 390
        },
        "id": "-Zbn8qsWA0jg",
        "outputId": "fc57922f-1172-41b8-d943-17348b79939f"
      },
      "source": [
        "#perform descriptive analytics\n",
        "data.describe(include ='all') #by default, only numerical columns will be shown. the 'include' parameter can be added to display all"
      ],
      "execution_count": 111,
      "outputs": [
        {
          "output_type": "execute_result",
          "data": {
            "text/html": [
              "<div>\n",
              "<style scoped>\n",
              "    .dataframe tbody tr th:only-of-type {\n",
              "        vertical-align: middle;\n",
              "    }\n",
              "\n",
              "    .dataframe tbody tr th {\n",
              "        vertical-align: top;\n",
              "    }\n",
              "\n",
              "    .dataframe thead th {\n",
              "        text-align: right;\n",
              "    }\n",
              "</style>\n",
              "<table border=\"1\" class=\"dataframe\">\n",
              "  <thead>\n",
              "    <tr style=\"text-align: right;\">\n",
              "      <th></th>\n",
              "      <th>EmployeeNumber</th>\n",
              "      <th>Age</th>\n",
              "      <th>Attrition</th>\n",
              "      <th>BusinessTravel</th>\n",
              "      <th>DistanceFromHome</th>\n",
              "      <th>EducationField</th>\n",
              "      <th>Gender</th>\n",
              "      <th>MaritalStatus</th>\n",
              "      <th>MonthlyIncome</th>\n",
              "      <th>JobSatisfaction</th>\n",
              "    </tr>\n",
              "  </thead>\n",
              "  <tbody>\n",
              "    <tr>\n",
              "      <th>count</th>\n",
              "      <td>1470.000000</td>\n",
              "      <td>1470.000000</td>\n",
              "      <td>1470</td>\n",
              "      <td>1470</td>\n",
              "      <td>1470.000000</td>\n",
              "      <td>1470</td>\n",
              "      <td>1470</td>\n",
              "      <td>1470</td>\n",
              "      <td>1470.000000</td>\n",
              "      <td>1354.000000</td>\n",
              "    </tr>\n",
              "    <tr>\n",
              "      <th>unique</th>\n",
              "      <td>NaN</td>\n",
              "      <td>NaN</td>\n",
              "      <td>2</td>\n",
              "      <td>3</td>\n",
              "      <td>NaN</td>\n",
              "      <td>6</td>\n",
              "      <td>2</td>\n",
              "      <td>4</td>\n",
              "      <td>NaN</td>\n",
              "      <td>NaN</td>\n",
              "    </tr>\n",
              "    <tr>\n",
              "      <th>top</th>\n",
              "      <td>NaN</td>\n",
              "      <td>NaN</td>\n",
              "      <td>No</td>\n",
              "      <td>Travel_Rarely</td>\n",
              "      <td>NaN</td>\n",
              "      <td>Life Sciences</td>\n",
              "      <td>Male</td>\n",
              "      <td>Married</td>\n",
              "      <td>NaN</td>\n",
              "      <td>NaN</td>\n",
              "    </tr>\n",
              "    <tr>\n",
              "      <th>freq</th>\n",
              "      <td>NaN</td>\n",
              "      <td>NaN</td>\n",
              "      <td>1233</td>\n",
              "      <td>1043</td>\n",
              "      <td>NaN</td>\n",
              "      <td>606</td>\n",
              "      <td>882</td>\n",
              "      <td>666</td>\n",
              "      <td>NaN</td>\n",
              "      <td>NaN</td>\n",
              "    </tr>\n",
              "    <tr>\n",
              "      <th>mean</th>\n",
              "      <td>735.500000</td>\n",
              "      <td>36.991837</td>\n",
              "      <td>NaN</td>\n",
              "      <td>NaN</td>\n",
              "      <td>9.192517</td>\n",
              "      <td>NaN</td>\n",
              "      <td>NaN</td>\n",
              "      <td>NaN</td>\n",
              "      <td>6502.931293</td>\n",
              "      <td>2.717134</td>\n",
              "    </tr>\n",
              "    <tr>\n",
              "      <th>std</th>\n",
              "      <td>424.496761</td>\n",
              "      <td>9.586548</td>\n",
              "      <td>NaN</td>\n",
              "      <td>NaN</td>\n",
              "      <td>8.106864</td>\n",
              "      <td>NaN</td>\n",
              "      <td>NaN</td>\n",
              "      <td>NaN</td>\n",
              "      <td>4707.956783</td>\n",
              "      <td>1.098498</td>\n",
              "    </tr>\n",
              "    <tr>\n",
              "      <th>min</th>\n",
              "      <td>1.000000</td>\n",
              "      <td>18.000000</td>\n",
              "      <td>NaN</td>\n",
              "      <td>NaN</td>\n",
              "      <td>1.000000</td>\n",
              "      <td>NaN</td>\n",
              "      <td>NaN</td>\n",
              "      <td>NaN</td>\n",
              "      <td>1009.000000</td>\n",
              "      <td>1.000000</td>\n",
              "    </tr>\n",
              "    <tr>\n",
              "      <th>25%</th>\n",
              "      <td>368.250000</td>\n",
              "      <td>30.000000</td>\n",
              "      <td>NaN</td>\n",
              "      <td>NaN</td>\n",
              "      <td>2.000000</td>\n",
              "      <td>NaN</td>\n",
              "      <td>NaN</td>\n",
              "      <td>NaN</td>\n",
              "      <td>2911.000000</td>\n",
              "      <td>2.000000</td>\n",
              "    </tr>\n",
              "    <tr>\n",
              "      <th>50%</th>\n",
              "      <td>735.500000</td>\n",
              "      <td>36.000000</td>\n",
              "      <td>NaN</td>\n",
              "      <td>NaN</td>\n",
              "      <td>7.000000</td>\n",
              "      <td>NaN</td>\n",
              "      <td>NaN</td>\n",
              "      <td>NaN</td>\n",
              "      <td>4919.000000</td>\n",
              "      <td>3.000000</td>\n",
              "    </tr>\n",
              "    <tr>\n",
              "      <th>75%</th>\n",
              "      <td>1102.750000</td>\n",
              "      <td>43.000000</td>\n",
              "      <td>NaN</td>\n",
              "      <td>NaN</td>\n",
              "      <td>14.000000</td>\n",
              "      <td>NaN</td>\n",
              "      <td>NaN</td>\n",
              "      <td>NaN</td>\n",
              "      <td>8379.000000</td>\n",
              "      <td>4.000000</td>\n",
              "    </tr>\n",
              "    <tr>\n",
              "      <th>max</th>\n",
              "      <td>1470.000000</td>\n",
              "      <td>149.000000</td>\n",
              "      <td>NaN</td>\n",
              "      <td>NaN</td>\n",
              "      <td>29.000000</td>\n",
              "      <td>NaN</td>\n",
              "      <td>NaN</td>\n",
              "      <td>NaN</td>\n",
              "      <td>19999.000000</td>\n",
              "      <td>4.000000</td>\n",
              "    </tr>\n",
              "  </tbody>\n",
              "</table>\n",
              "</div>"
            ],
            "text/plain": [
              "        EmployeeNumber          Age  ... MonthlyIncome JobSatisfaction\n",
              "count      1470.000000  1470.000000  ...   1470.000000     1354.000000\n",
              "unique             NaN          NaN  ...           NaN             NaN\n",
              "top                NaN          NaN  ...           NaN             NaN\n",
              "freq               NaN          NaN  ...           NaN             NaN\n",
              "mean        735.500000    36.991837  ...   6502.931293        2.717134\n",
              "std         424.496761     9.586548  ...   4707.956783        1.098498\n",
              "min           1.000000    18.000000  ...   1009.000000        1.000000\n",
              "25%         368.250000    30.000000  ...   2911.000000        2.000000\n",
              "50%         735.500000    36.000000  ...   4919.000000        3.000000\n",
              "75%        1102.750000    43.000000  ...   8379.000000        4.000000\n",
              "max        1470.000000   149.000000  ...  19999.000000        4.000000\n",
              "\n",
              "[11 rows x 10 columns]"
            ]
          },
          "metadata": {
            "tags": []
          },
          "execution_count": 111
        }
      ]
    },
    {
      "cell_type": "code",
      "metadata": {
        "colab": {
          "base_uri": "https://localhost:8080/"
        },
        "id": "dbPW_tow_Vfd",
        "outputId": "951b3a84-60d9-4633-81ca-29bb2eb1bf25"
      },
      "source": [
        "#begin diagnostic analytics\n",
        "#display first 5 rows of data to understand it and check for errors in datatype\n",
        "print(data.head())\n",
        "#display the number of rows and columns in the dataset\n",
        "print(data.shape)\n",
        "#display the names of the columns in the dataset\n",
        "print(data.columns)\n",
        "#display the data types of each column\n",
        "print(data.dtypes)"
      ],
      "execution_count": 112,
      "outputs": [
        {
          "output_type": "stream",
          "text": [
            "   EmployeeNumber  Age Attrition  ... MaritalStatus  MonthlyIncome JobSatisfaction\n",
            "0               1   41       Yes  ...        Single           5993             4.0\n",
            "1               2   49        No  ...       Married           5130             2.0\n",
            "2               3   37       Yes  ...        Single           2090             3.0\n",
            "3               4   33        No  ...       Married           2909             3.0\n",
            "4               5   27        No  ...       Married           3468             2.0\n",
            "\n",
            "[5 rows x 10 columns]\n",
            "(1470, 10)\n",
            "Index(['EmployeeNumber', 'Age', 'Attrition', 'BusinessTravel',\n",
            "       'DistanceFromHome', 'EducationField', 'Gender', 'MaritalStatus',\n",
            "       'MonthlyIncome', 'JobSatisfaction'],\n",
            "      dtype='object')\n",
            "EmployeeNumber        int64\n",
            "Age                   int64\n",
            "Attrition            object\n",
            "BusinessTravel       object\n",
            "DistanceFromHome      int64\n",
            "EducationField       object\n",
            "Gender               object\n",
            "MaritalStatus        object\n",
            "MonthlyIncome         int64\n",
            "JobSatisfaction     float64\n",
            "dtype: object\n"
          ],
          "name": "stdout"
        }
      ]
    },
    {
      "cell_type": "code",
      "metadata": {
        "colab": {
          "base_uri": "https://localhost:8080/",
          "height": 204
        },
        "id": "76kqEnzFYP2z",
        "outputId": "f19fd93e-ed2f-4359-c0e1-ade42159b115"
      },
      "source": [
        "#extracting categorical fields to identify data quality issues \n",
        "data_cat = data.select_dtypes(include='object')\n",
        "data_cat.head()"
      ],
      "execution_count": 113,
      "outputs": [
        {
          "output_type": "execute_result",
          "data": {
            "text/html": [
              "<div>\n",
              "<style scoped>\n",
              "    .dataframe tbody tr th:only-of-type {\n",
              "        vertical-align: middle;\n",
              "    }\n",
              "\n",
              "    .dataframe tbody tr th {\n",
              "        vertical-align: top;\n",
              "    }\n",
              "\n",
              "    .dataframe thead th {\n",
              "        text-align: right;\n",
              "    }\n",
              "</style>\n",
              "<table border=\"1\" class=\"dataframe\">\n",
              "  <thead>\n",
              "    <tr style=\"text-align: right;\">\n",
              "      <th></th>\n",
              "      <th>Attrition</th>\n",
              "      <th>BusinessTravel</th>\n",
              "      <th>EducationField</th>\n",
              "      <th>Gender</th>\n",
              "      <th>MaritalStatus</th>\n",
              "    </tr>\n",
              "  </thead>\n",
              "  <tbody>\n",
              "    <tr>\n",
              "      <th>0</th>\n",
              "      <td>Yes</td>\n",
              "      <td>Travel_Rarely</td>\n",
              "      <td>Life Sciences</td>\n",
              "      <td>Female</td>\n",
              "      <td>Single</td>\n",
              "    </tr>\n",
              "    <tr>\n",
              "      <th>1</th>\n",
              "      <td>No</td>\n",
              "      <td>Travel_Frequently</td>\n",
              "      <td>Life Sciences</td>\n",
              "      <td>Male</td>\n",
              "      <td>Married</td>\n",
              "    </tr>\n",
              "    <tr>\n",
              "      <th>2</th>\n",
              "      <td>Yes</td>\n",
              "      <td>Travel_Rarely</td>\n",
              "      <td>Other</td>\n",
              "      <td>Male</td>\n",
              "      <td>Single</td>\n",
              "    </tr>\n",
              "    <tr>\n",
              "      <th>3</th>\n",
              "      <td>No</td>\n",
              "      <td>Travel_Frequently</td>\n",
              "      <td>Life Sciences</td>\n",
              "      <td>Female</td>\n",
              "      <td>Married</td>\n",
              "    </tr>\n",
              "    <tr>\n",
              "      <th>4</th>\n",
              "      <td>No</td>\n",
              "      <td>Travel_Rarely</td>\n",
              "      <td>Medical</td>\n",
              "      <td>Male</td>\n",
              "      <td>Married</td>\n",
              "    </tr>\n",
              "  </tbody>\n",
              "</table>\n",
              "</div>"
            ],
            "text/plain": [
              "  Attrition     BusinessTravel EducationField  Gender MaritalStatus\n",
              "0       Yes      Travel_Rarely  Life Sciences  Female        Single\n",
              "1        No  Travel_Frequently  Life Sciences    Male       Married\n",
              "2       Yes      Travel_Rarely          Other    Male        Single\n",
              "3        No  Travel_Frequently  Life Sciences  Female       Married\n",
              "4        No      Travel_Rarely        Medical    Male       Married"
            ]
          },
          "metadata": {
            "tags": []
          },
          "execution_count": 113
        }
      ]
    },
    {
      "cell_type": "code",
      "metadata": {
        "colab": {
          "base_uri": "https://localhost:8080/"
        },
        "id": "umBvyFIzTJgE",
        "outputId": "94e9e1e7-221e-47e8-cd48-773d1f6335cd"
      },
      "source": [
        "#extract categorical columns and use the value_counts() function to calculate the frequency of counts for each category\n",
        "print(data_cat['Attrition'].value_counts())\n",
        "print(\"\\nThere are a total of \" + str(data_cat['Attrition'].value_counts().count()) + \" unique categories\")\n",
        "\n",
        "print(\"\\n\")\n",
        "print(data_cat['BusinessTravel'].value_counts())\n",
        "print(\"\\nThere are a total of \" + str(data_cat['BusinessTravel'].value_counts().count()) + \" unique categories\")\n",
        "\n",
        "print(\"\\n\")\n",
        "print(data_cat['EducationField'].value_counts())\n",
        "print(\"\\nThere are a total of \" + str(data_cat['EducationField'].value_counts().count()) + \" unique categories\")\n",
        "\n",
        "print(\"\\n\")\n",
        "print(data_cat['Gender'].value_counts())\n",
        "print(\"\\nThere are a total of \" + str(data_cat['Gender'].value_counts().count()) + \" unique categories\")\n",
        "\n",
        "print(\"\\n\")\n",
        "print(data_cat['MaritalStatus'].value_counts())\n",
        "print(\"\\nThere are a total of \" + str(data_cat['MaritalStatus'].value_counts().count()) + \" unique categories\")"
      ],
      "execution_count": 114,
      "outputs": [
        {
          "output_type": "stream",
          "text": [
            "No     1233\n",
            "Yes     237\n",
            "Name: Attrition, dtype: int64\n",
            "\n",
            "There are a total of 2 unique categories\n",
            "\n",
            "\n",
            "Travel_Rarely        1043\n",
            "Travel_Frequently     277\n",
            "Non-Travel            150\n",
            "Name: BusinessTravel, dtype: int64\n",
            "\n",
            "There are a total of 3 unique categories\n",
            "\n",
            "\n",
            "Life Sciences       606\n",
            "Medical             464\n",
            "Marketing           159\n",
            "Technical Degree    132\n",
            "Other                82\n",
            "Human Resources      27\n",
            "Name: EducationField, dtype: int64\n",
            "\n",
            "There are a total of 6 unique categories\n",
            "\n",
            "\n",
            "Male      882\n",
            "Female    588\n",
            "Name: Gender, dtype: int64\n",
            "\n",
            "There are a total of 2 unique categories\n",
            "\n",
            "\n",
            "Married         666\n",
            "Single          470\n",
            "Divorced        326\n",
            "NOT_CAPTURED      8\n",
            "Name: MaritalStatus, dtype: int64\n",
            "\n",
            "There are a total of 4 unique categories\n"
          ],
          "name": "stdout"
        }
      ]
    },
    {
      "cell_type": "code",
      "metadata": {
        "colab": {
          "base_uri": "https://localhost:8080/"
        },
        "id": "uiW55BqHih7M",
        "outputId": "27c1efc7-8a3f-4cec-ded4-d3e5deee5dd3"
      },
      "source": [
        "#using a non-visual plot to count the frequency of missing values for categorical columns\n",
        "print(\"Missing values count for each column\")\n",
        "print(data_cat.isnull().sum())\n",
        "missing_prop = data_cat.isnull().sum()/len(data_cat)\n",
        "print(\"\\nMissing values proportion for each column\")\n",
        "print(missing_prop)"
      ],
      "execution_count": 115,
      "outputs": [
        {
          "output_type": "stream",
          "text": [
            "Missing values count for each column\n",
            "Attrition         0\n",
            "BusinessTravel    0\n",
            "EducationField    0\n",
            "Gender            0\n",
            "MaritalStatus     0\n",
            "dtype: int64\n",
            "\n",
            "Missing values proportion for each column\n",
            "Attrition         0.0\n",
            "BusinessTravel    0.0\n",
            "EducationField    0.0\n",
            "Gender            0.0\n",
            "MaritalStatus     0.0\n",
            "dtype: float64\n"
          ],
          "name": "stdout"
        }
      ]
    },
    {
      "cell_type": "code",
      "metadata": {
        "colab": {
          "base_uri": "https://localhost:8080/",
          "height": 702
        },
        "id": "3kYisS-bXX1E",
        "outputId": "6dd13946-ca9c-428b-80f2-76aea6245db9"
      },
      "source": [
        "#as some columns have many values, frequency distribution bar plots can be used to visualise instead\n",
        "\n",
        "import matplotlib.pyplot as plt\n",
        "plt.figure(figsize = (20,20))\n",
        "\n",
        "plt.subplot(5,2,1)\n",
        "plt.title(\"Frequency Distribution for Attrition\")\n",
        "plt.ylabel('Counts')\n",
        "plt.bar(data_cat['Attrition'].value_counts().index, data_cat['Attrition'].value_counts().values)\n",
        "\n",
        "plt.subplot(5,2,2)\n",
        "plt.title('Frequency Distribution for BusinessTravel')\n",
        "plt.ylabel('Counts')\n",
        "plt.bar(data_cat['BusinessTravel'].value_counts().index, data_cat['BusinessTravel'].value_counts().values)\n",
        "\n",
        "plt.subplot(5,2,3)\n",
        "plt.title('Frequency Distribution for EducationField')\n",
        "plt.ylabel('Counts')\n",
        "plt.bar(data_cat['EducationField'].value_counts().index, data_cat['EducationField'].value_counts().values)\n",
        "\n",
        "plt.subplot(5,2,4)\n",
        "plt.title('Frequency Distribution for Gender')\n",
        "plt.ylabel('Counts')\n",
        "plt.bar(data_cat['Gender'].value_counts().index, data_cat['Gender'].value_counts().values)\n",
        "\n",
        "plt.subplot(5,2,5)\n",
        "plt.title('Frequency Distribution for MaritalStatus')\n",
        "plt.ylabel('Counts')\n",
        "plt.bar(data_cat['MaritalStatus'].value_counts().index, data_cat['MaritalStatus'].value_counts().values)\n",
        "\n",
        "plt.show()"
      ],
      "execution_count": 116,
      "outputs": [
        {
          "output_type": "display_data",
          "data": {
            "image/png": "[encoded data removed]",
            "text/plain": [
              "<Figure size 1440x1440 with 5 Axes>"
            ]
          },
          "metadata": {
            "tags": [],
            "needs_background": "light"
          }
        }
      ]
    },
    {
      "cell_type": "code",
      "metadata": {
        "colab": {
          "base_uri": "https://localhost:8080/"
        },
        "id": "TEOXUME4zVOe",
        "outputId": "4cbf1d0f-0a19-444b-d4ed-8ce993c7b6cf"
      },
      "source": [
        "#checking if the formula is correct\n",
        "data['MaritalStatus']!= 'NOT_CAPTURED'"
      ],
      "execution_count": 117,
      "outputs": [
        {
          "output_type": "execute_result",
          "data": {
            "text/plain": [
              "0       True\n",
              "1       True\n",
              "2       True\n",
              "3       True\n",
              "4       True\n",
              "        ... \n",
              "1465    True\n",
              "1466    True\n",
              "1467    True\n",
              "1468    True\n",
              "1469    True\n",
              "Name: MaritalStatus, Length: 1470, dtype: bool"
            ]
          },
          "metadata": {
            "tags": []
          },
          "execution_count": 117
        }
      ]
    },
    {
      "cell_type": "code",
      "metadata": {
        "id": "kJm5nPf82ceS"
      },
      "source": [
        "#removing all rows with the 'NOT_CAPTURED' category in the 'MaritalStatus' column\n",
        "data = data.loc[data['MaritalStatus']!= 'NOT_CAPTURED']"
      ],
      "execution_count": 118,
      "outputs": []
    },
    {
      "cell_type": "code",
      "metadata": {
        "colab": {
          "base_uri": "https://localhost:8080/"
        },
        "id": "eDaBUeL527M9",
        "outputId": "246c7390-c039-4684-fdde-c07760285a50"
      },
      "source": [
        "#verifying that there are no longer any counts of 'NOT_CAPTURED' in the column\n",
        "data['MaritalStatus'].value_counts()"
      ],
      "execution_count": 119,
      "outputs": [
        {
          "output_type": "execute_result",
          "data": {
            "text/plain": [
              "Married     666\n",
              "Single      470\n",
              "Divorced    326\n",
              "Name: MaritalStatus, dtype: int64"
            ]
          },
          "metadata": {
            "tags": []
          },
          "execution_count": 119
        }
      ]
    },
    {
      "cell_type": "code",
      "metadata": {
        "colab": {
          "base_uri": "https://localhost:8080/",
          "height": 204
        },
        "id": "5SNsx7Gzgh_f",
        "outputId": "5c4e505d-10f4-4a85-bf49-ed444d76fdac"
      },
      "source": [
        "#extracting numerical fields to identify data quality issues \n",
        "data_num = data.select_dtypes(include = ['int', 'float'])\n",
        "data_num.head()"
      ],
      "execution_count": 120,
      "outputs": [
        {
          "output_type": "execute_result",
          "data": {
            "text/html": [
              "<div>\n",
              "<style scoped>\n",
              "    .dataframe tbody tr th:only-of-type {\n",
              "        vertical-align: middle;\n",
              "    }\n",
              "\n",
              "    .dataframe tbody tr th {\n",
              "        vertical-align: top;\n",
              "    }\n",
              "\n",
              "    .dataframe thead th {\n",
              "        text-align: right;\n",
              "    }\n",
              "</style>\n",
              "<table border=\"1\" class=\"dataframe\">\n",
              "  <thead>\n",
              "    <tr style=\"text-align: right;\">\n",
              "      <th></th>\n",
              "      <th>EmployeeNumber</th>\n",
              "      <th>Age</th>\n",
              "      <th>DistanceFromHome</th>\n",
              "      <th>MonthlyIncome</th>\n",
              "      <th>JobSatisfaction</th>\n",
              "    </tr>\n",
              "  </thead>\n",
              "  <tbody>\n",
              "    <tr>\n",
              "      <th>0</th>\n",
              "      <td>1</td>\n",
              "      <td>41</td>\n",
              "      <td>1</td>\n",
              "      <td>5993</td>\n",
              "      <td>4.0</td>\n",
              "    </tr>\n",
              "    <tr>\n",
              "      <th>1</th>\n",
              "      <td>2</td>\n",
              "      <td>49</td>\n",
              "      <td>8</td>\n",
              "      <td>5130</td>\n",
              "      <td>2.0</td>\n",
              "    </tr>\n",
              "    <tr>\n",
              "      <th>2</th>\n",
              "      <td>3</td>\n",
              "      <td>37</td>\n",
              "      <td>2</td>\n",
              "      <td>2090</td>\n",
              "      <td>3.0</td>\n",
              "    </tr>\n",
              "    <tr>\n",
              "      <th>3</th>\n",
              "      <td>4</td>\n",
              "      <td>33</td>\n",
              "      <td>3</td>\n",
              "      <td>2909</td>\n",
              "      <td>3.0</td>\n",
              "    </tr>\n",
              "    <tr>\n",
              "      <th>4</th>\n",
              "      <td>5</td>\n",
              "      <td>27</td>\n",
              "      <td>2</td>\n",
              "      <td>3468</td>\n",
              "      <td>2.0</td>\n",
              "    </tr>\n",
              "  </tbody>\n",
              "</table>\n",
              "</div>"
            ],
            "text/plain": [
              "   EmployeeNumber  Age  DistanceFromHome  MonthlyIncome  JobSatisfaction\n",
              "0               1   41                 1           5993              4.0\n",
              "1               2   49                 8           5130              2.0\n",
              "2               3   37                 2           2090              3.0\n",
              "3               4   33                 3           2909              3.0\n",
              "4               5   27                 2           3468              2.0"
            ]
          },
          "metadata": {
            "tags": []
          },
          "execution_count": 120
        }
      ]
    },
    {
      "cell_type": "code",
      "metadata": {
        "colab": {
          "base_uri": "https://localhost:8080/"
        },
        "id": "OwKrEBpShnUL",
        "outputId": "9190df96-3bdd-4809-d694-3878c643e4f6"
      },
      "source": [
        "#using a frequency count to count the frequency of missing values of numerical columns\n",
        "print(\"Missing values count for each column\")\n",
        "print(data_num.isnull().sum())\n",
        "missing_prop = data_num.isnull().sum()/len(data_num)\n",
        "print(\"\\nMissing values proportion for each column\")\n",
        "print(missing_prop)"
      ],
      "execution_count": 121,
      "outputs": [
        {
          "output_type": "stream",
          "text": [
            "Missing values count for each column\n",
            "EmployeeNumber        0\n",
            "Age                   0\n",
            "DistanceFromHome      0\n",
            "MonthlyIncome         0\n",
            "JobSatisfaction     116\n",
            "dtype: int64\n",
            "\n",
            "Missing values proportion for each column\n",
            "EmployeeNumber      0.000000\n",
            "Age                 0.000000\n",
            "DistanceFromHome    0.000000\n",
            "MonthlyIncome       0.000000\n",
            "JobSatisfaction     0.079343\n",
            "dtype: float64\n"
          ],
          "name": "stdout"
        }
      ]
    },
    {
      "cell_type": "code",
      "metadata": {
        "colab": {
          "base_uri": "https://localhost:8080/",
          "height": 613
        },
        "id": "egYSSYE6io3e",
        "outputId": "696e217c-b41e-439e-860a-484c7e92154b"
      },
      "source": [
        "#using a visual plot to create a heat map for missing numerical values\n",
        "import seaborn as sns\n",
        "plt.figure(figsize = [10,10])\n",
        "sns.heatmap(data_num.isnull())"
      ],
      "execution_count": 122,
      "outputs": [
        {
          "output_type": "execute_result",
          "data": {
            "text/plain": [
              "<matplotlib.axes._subplots.AxesSubplot at 0x7f93b64cf550>"
            ]
          },
          "metadata": {
            "tags": []
          },
          "execution_count": 122
        },
        {
          "output_type": "display_data",
          "data": {
            "image/png": "[encoded data removed]",
            "text/plain": [
              "<Figure size 720x720 with 2 Axes>"
            ]
          },
          "metadata": {
            "tags": [],
            "needs_background": "light"
          }
        }
      ]
    },
    {
      "cell_type": "code",
      "metadata": {
        "colab": {
          "base_uri": "https://localhost:8080/",
          "height": 265
        },
        "id": "xCpHCgeXoXiO",
        "outputId": "c15c8f64-0656-4470-904e-16193524743e"
      },
      "source": [
        "#as the JobSatisfaction column has more than 5% but lower than 20% of missing values, the missing values must be imputed\n",
        "plt.hist(data['JobSatisfaction'], bins = 4, edgecolor = 'black')\n",
        "plt.axvline(x = data['JobSatisfaction'].mean(), linestyle = 'dashed', color = 'red')\n",
        "plt.axvline(x = data['JobSatisfaction'].median(), linestyle = 'dashed', color = 'black')\n",
        "plt.show()"
      ],
      "execution_count": 123,
      "outputs": [
        {
          "output_type": "display_data",
          "data": {
            "image/png": "[encoded data removed]",
            "text/plain": [
              "<Figure size 432x288 with 1 Axes>"
            ]
          },
          "metadata": {
            "tags": [],
            "needs_background": "light"
          }
        }
      ]
    },
    {
      "cell_type": "code",
      "metadata": {
        "colab": {
          "base_uri": "https://localhost:8080/",
          "height": 419
        },
        "id": "TkxrSYPpvUHL",
        "outputId": "916a2c94-7762-4550-de9c-5e5f609c6794"
      },
      "source": [
        "#from the histogram, 'JobSatisfaction' is not normally distributed and has many frequency counts of customers with scores of 2.5 and below. Hence, the mean will be pulled towards the left in the distribution, and median would be a better choice.\n",
        "data_im = data.copy()\n",
        "data_im['JobSatisfaction'].fillna(value=data['JobSatisfaction'].median(), axis = 0, inplace = True)\n",
        "data.loc[data['JobSatisfaction'].isnull(),:]"
      ],
      "execution_count": 124,
      "outputs": [
        {
          "output_type": "execute_result",
          "data": {
            "text/html": [
              "<div>\n",
              "<style scoped>\n",
              "    .dataframe tbody tr th:only-of-type {\n",
              "        vertical-align: middle;\n",
              "    }\n",
              "\n",
              "    .dataframe tbody tr th {\n",
              "        vertical-align: top;\n",
              "    }\n",
              "\n",
              "    .dataframe thead th {\n",
              "        text-align: right;\n",
              "    }\n",
              "</style>\n",
              "<table border=\"1\" class=\"dataframe\">\n",
              "  <thead>\n",
              "    <tr style=\"text-align: right;\">\n",
              "      <th></th>\n",
              "      <th>EmployeeNumber</th>\n",
              "      <th>Age</th>\n",
              "      <th>Attrition</th>\n",
              "      <th>BusinessTravel</th>\n",
              "      <th>DistanceFromHome</th>\n",
              "      <th>EducationField</th>\n",
              "      <th>Gender</th>\n",
              "      <th>MaritalStatus</th>\n",
              "      <th>MonthlyIncome</th>\n",
              "      <th>JobSatisfaction</th>\n",
              "    </tr>\n",
              "  </thead>\n",
              "  <tbody>\n",
              "    <tr>\n",
              "      <th>55</th>\n",
              "      <td>56</td>\n",
              "      <td>33</td>\n",
              "      <td>No</td>\n",
              "      <td>Travel_Frequently</td>\n",
              "      <td>1</td>\n",
              "      <td>Life Sciences</td>\n",
              "      <td>Female</td>\n",
              "      <td>Single</td>\n",
              "      <td>13458</td>\n",
              "      <td>NaN</td>\n",
              "    </tr>\n",
              "    <tr>\n",
              "      <th>56</th>\n",
              "      <td>57</td>\n",
              "      <td>35</td>\n",
              "      <td>No</td>\n",
              "      <td>Travel_Frequently</td>\n",
              "      <td>18</td>\n",
              "      <td>Life Sciences</td>\n",
              "      <td>Male</td>\n",
              "      <td>Married</td>\n",
              "      <td>9069</td>\n",
              "      <td>NaN</td>\n",
              "    </tr>\n",
              "    <tr>\n",
              "      <th>61</th>\n",
              "      <td>62</td>\n",
              "      <td>38</td>\n",
              "      <td>No</td>\n",
              "      <td>Travel_Frequently</td>\n",
              "      <td>29</td>\n",
              "      <td>Life Sciences</td>\n",
              "      <td>Female</td>\n",
              "      <td>Single</td>\n",
              "      <td>2406</td>\n",
              "      <td>NaN</td>\n",
              "    </tr>\n",
              "    <tr>\n",
              "      <th>66</th>\n",
              "      <td>67</td>\n",
              "      <td>36</td>\n",
              "      <td>No</td>\n",
              "      <td>Travel_Frequently</td>\n",
              "      <td>11</td>\n",
              "      <td>Life Sciences</td>\n",
              "      <td>Male</td>\n",
              "      <td>Single</td>\n",
              "      <td>6499</td>\n",
              "      <td>NaN</td>\n",
              "    </tr>\n",
              "    <tr>\n",
              "      <th>68</th>\n",
              "      <td>69</td>\n",
              "      <td>35</td>\n",
              "      <td>No</td>\n",
              "      <td>Travel_Frequently</td>\n",
              "      <td>1</td>\n",
              "      <td>Medical</td>\n",
              "      <td>Male</td>\n",
              "      <td>Married</td>\n",
              "      <td>2194</td>\n",
              "      <td>NaN</td>\n",
              "    </tr>\n",
              "    <tr>\n",
              "      <th>...</th>\n",
              "      <td>...</td>\n",
              "      <td>...</td>\n",
              "      <td>...</td>\n",
              "      <td>...</td>\n",
              "      <td>...</td>\n",
              "      <td>...</td>\n",
              "      <td>...</td>\n",
              "      <td>...</td>\n",
              "      <td>...</td>\n",
              "      <td>...</td>\n",
              "    </tr>\n",
              "    <tr>\n",
              "      <th>1375</th>\n",
              "      <td>1376</td>\n",
              "      <td>32</td>\n",
              "      <td>Yes</td>\n",
              "      <td>Travel_Frequently</td>\n",
              "      <td>5</td>\n",
              "      <td>Life Sciences</td>\n",
              "      <td>Female</td>\n",
              "      <td>Single</td>\n",
              "      <td>2432</td>\n",
              "      <td>NaN</td>\n",
              "    </tr>\n",
              "    <tr>\n",
              "      <th>1377</th>\n",
              "      <td>1378</td>\n",
              "      <td>49</td>\n",
              "      <td>No</td>\n",
              "      <td>Travel_Frequently</td>\n",
              "      <td>2</td>\n",
              "      <td>Life Sciences</td>\n",
              "      <td>Male</td>\n",
              "      <td>Married</td>\n",
              "      <td>19161</td>\n",
              "      <td>NaN</td>\n",
              "    </tr>\n",
              "    <tr>\n",
              "      <th>1379</th>\n",
              "      <td>1380</td>\n",
              "      <td>27</td>\n",
              "      <td>Yes</td>\n",
              "      <td>Travel_Frequently</td>\n",
              "      <td>22</td>\n",
              "      <td>Human Resources</td>\n",
              "      <td>Female</td>\n",
              "      <td>Married</td>\n",
              "      <td>2863</td>\n",
              "      <td>NaN</td>\n",
              "    </tr>\n",
              "    <tr>\n",
              "      <th>1389</th>\n",
              "      <td>1390</td>\n",
              "      <td>31</td>\n",
              "      <td>No</td>\n",
              "      <td>Travel_Frequently</td>\n",
              "      <td>1</td>\n",
              "      <td>Life Sciences</td>\n",
              "      <td>Male</td>\n",
              "      <td>Married</td>\n",
              "      <td>5003</td>\n",
              "      <td>NaN</td>\n",
              "    </tr>\n",
              "    <tr>\n",
              "      <th>1395</th>\n",
              "      <td>1396</td>\n",
              "      <td>31</td>\n",
              "      <td>Yes</td>\n",
              "      <td>Travel_Frequently</td>\n",
              "      <td>26</td>\n",
              "      <td>Marketing</td>\n",
              "      <td>Male</td>\n",
              "      <td>Married</td>\n",
              "      <td>5617</td>\n",
              "      <td>NaN</td>\n",
              "    </tr>\n",
              "  </tbody>\n",
              "</table>\n",
              "<p>116 rows × 10 columns</p>\n",
              "</div>"
            ],
            "text/plain": [
              "      EmployeeNumber  Age  ... MonthlyIncome JobSatisfaction\n",
              "55                56   33  ...         13458             NaN\n",
              "56                57   35  ...          9069             NaN\n",
              "61                62   38  ...          2406             NaN\n",
              "66                67   36  ...          6499             NaN\n",
              "68                69   35  ...          2194             NaN\n",
              "...              ...  ...  ...           ...             ...\n",
              "1375            1376   32  ...          2432             NaN\n",
              "1377            1378   49  ...         19161             NaN\n",
              "1379            1380   27  ...          2863             NaN\n",
              "1389            1390   31  ...          5003             NaN\n",
              "1395            1396   31  ...          5617             NaN\n",
              "\n",
              "[116 rows x 10 columns]"
            ]
          },
          "metadata": {
            "tags": []
          },
          "execution_count": 124
        }
      ]
    },
    {
      "cell_type": "code",
      "metadata": {
        "colab": {
          "base_uri": "https://localhost:8080/",
          "height": 204
        },
        "id": "WqSC6Tdbv-Ev",
        "outputId": "63acf24e-aa66-43e0-d710-9889e9b9cd4b"
      },
      "source": [
        "#verifying the imputation by checking to see if the missing values have been replaced with the median\n",
        "data_im.loc[[55,56,61,66,68]]"
      ],
      "execution_count": 125,
      "outputs": [
        {
          "output_type": "execute_result",
          "data": {
            "text/html": [
              "<div>\n",
              "<style scoped>\n",
              "    .dataframe tbody tr th:only-of-type {\n",
              "        vertical-align: middle;\n",
              "    }\n",
              "\n",
              "    .dataframe tbody tr th {\n",
              "        vertical-align: top;\n",
              "    }\n",
              "\n",
              "    .dataframe thead th {\n",
              "        text-align: right;\n",
              "    }\n",
              "</style>\n",
              "<table border=\"1\" class=\"dataframe\">\n",
              "  <thead>\n",
              "    <tr style=\"text-align: right;\">\n",
              "      <th></th>\n",
              "      <th>EmployeeNumber</th>\n",
              "      <th>Age</th>\n",
              "      <th>Attrition</th>\n",
              "      <th>BusinessTravel</th>\n",
              "      <th>DistanceFromHome</th>\n",
              "      <th>EducationField</th>\n",
              "      <th>Gender</th>\n",
              "      <th>MaritalStatus</th>\n",
              "      <th>MonthlyIncome</th>\n",
              "      <th>JobSatisfaction</th>\n",
              "    </tr>\n",
              "  </thead>\n",
              "  <tbody>\n",
              "    <tr>\n",
              "      <th>55</th>\n",
              "      <td>56</td>\n",
              "      <td>33</td>\n",
              "      <td>No</td>\n",
              "      <td>Travel_Frequently</td>\n",
              "      <td>1</td>\n",
              "      <td>Life Sciences</td>\n",
              "      <td>Female</td>\n",
              "      <td>Single</td>\n",
              "      <td>13458</td>\n",
              "      <td>3.0</td>\n",
              "    </tr>\n",
              "    <tr>\n",
              "      <th>56</th>\n",
              "      <td>57</td>\n",
              "      <td>35</td>\n",
              "      <td>No</td>\n",
              "      <td>Travel_Frequently</td>\n",
              "      <td>18</td>\n",
              "      <td>Life Sciences</td>\n",
              "      <td>Male</td>\n",
              "      <td>Married</td>\n",
              "      <td>9069</td>\n",
              "      <td>3.0</td>\n",
              "    </tr>\n",
              "    <tr>\n",
              "      <th>61</th>\n",
              "      <td>62</td>\n",
              "      <td>38</td>\n",
              "      <td>No</td>\n",
              "      <td>Travel_Frequently</td>\n",
              "      <td>29</td>\n",
              "      <td>Life Sciences</td>\n",
              "      <td>Female</td>\n",
              "      <td>Single</td>\n",
              "      <td>2406</td>\n",
              "      <td>3.0</td>\n",
              "    </tr>\n",
              "    <tr>\n",
              "      <th>66</th>\n",
              "      <td>67</td>\n",
              "      <td>36</td>\n",
              "      <td>No</td>\n",
              "      <td>Travel_Frequently</td>\n",
              "      <td>11</td>\n",
              "      <td>Life Sciences</td>\n",
              "      <td>Male</td>\n",
              "      <td>Single</td>\n",
              "      <td>6499</td>\n",
              "      <td>3.0</td>\n",
              "    </tr>\n",
              "    <tr>\n",
              "      <th>68</th>\n",
              "      <td>69</td>\n",
              "      <td>35</td>\n",
              "      <td>No</td>\n",
              "      <td>Travel_Frequently</td>\n",
              "      <td>1</td>\n",
              "      <td>Medical</td>\n",
              "      <td>Male</td>\n",
              "      <td>Married</td>\n",
              "      <td>2194</td>\n",
              "      <td>3.0</td>\n",
              "    </tr>\n",
              "  </tbody>\n",
              "</table>\n",
              "</div>"
            ],
            "text/plain": [
              "    EmployeeNumber  Age Attrition  ... MaritalStatus  MonthlyIncome JobSatisfaction\n",
              "55              56   33        No  ...        Single          13458             3.0\n",
              "56              57   35        No  ...       Married           9069             3.0\n",
              "61              62   38        No  ...        Single           2406             3.0\n",
              "66              67   36        No  ...        Single           6499             3.0\n",
              "68              69   35        No  ...       Married           2194             3.0\n",
              "\n",
              "[5 rows x 10 columns]"
            ]
          },
          "metadata": {
            "tags": []
          },
          "execution_count": 125
        }
      ]
    },
    {
      "cell_type": "code",
      "metadata": {
        "colab": {
          "base_uri": "https://localhost:8080/",
          "height": 334
        },
        "id": "wirmsQ7gjmae",
        "outputId": "237a13d3-cebc-42f0-d699-60f28d0fcd8e"
      },
      "source": [
        "#using a boxplot to find numerical outliers\n",
        "plt.figure(figsize = [15,5])\n",
        "\n",
        "plt.subplot(1,4,1)\n",
        "plt.xlabel('Age')\n",
        "plt.boxplot(data_num['Age'].dropna())\n",
        "\n",
        "plt.subplot(1,4,2)\n",
        "plt.xlabel('DistanceFromHome')\n",
        "plt.boxplot(data_num['DistanceFromHome'].dropna())\n",
        "\n",
        "plt.subplot(1,4,3)\n",
        "plt.xlabel('MonthlyIncome')\n",
        "plt.boxplot(data_num['MonthlyIncome'].dropna())\n",
        "\n",
        "plt.subplot(1,4,4)\n",
        "plt.xlabel('JobSatisfaction')\n",
        "plt.boxplot(data_num['JobSatisfaction'].dropna())\n",
        "\n",
        "plt.show()"
      ],
      "execution_count": 126,
      "outputs": [
        {
          "output_type": "display_data",
          "data": {
            "image/png": "[encoded data removed]",
            "text/plain": [
              "<Figure size 1080x360 with 4 Axes>"
            ]
          },
          "metadata": {
            "tags": [],
            "needs_background": "light"
          }
        }
      ]
    },
    {
      "cell_type": "code",
      "metadata": {
        "colab": {
          "base_uri": "https://localhost:8080/"
        },
        "id": "F7v47YMu61SJ",
        "outputId": "fcba50d4-e18f-42d2-e303-b8d3e1f19b54"
      },
      "source": [
        "#computing the upper and lower fence values to remove the outlier\n",
        "Q1 = data['Age'].quantile(0.25)\n",
        "Q3 = data['Age'].quantile(0.75)\n",
        "MEDIAN = data['Age'].median()\n",
        "IQR = Q3 - Q1\n",
        "UpperFence = Q3 + 1.5*IQR\n",
        "LowerFence = Q1 - 1.5*IQR\n",
        "print(\"Q1={},Q3={}, MEDIAN={}, IQR={}, UpperFence={}, LowerFence={}\".format(Q1,Q3,MEDIAN,IQR,UpperFence,LowerFence))"
      ],
      "execution_count": 127,
      "outputs": [
        {
          "output_type": "stream",
          "text": [
            "Q1=30.0,Q3=43.0, MEDIAN=36.0, IQR=13.0, UpperFence=62.5, LowerFence=10.5\n"
          ],
          "name": "stdout"
        }
      ]
    },
    {
      "cell_type": "code",
      "metadata": {
        "colab": {
          "base_uri": "https://localhost:8080/"
        },
        "id": "_Dyb0Zs37h1t",
        "outputId": "6ed86735-1cd6-40fa-e2df-4d330ad7d402"
      },
      "source": [
        "#as an age above 140 is not realistic, the outlier in age should be removed.\n",
        "data_im_ro = data_im.copy()\n",
        "(data_im_ro['Age']>=LowerFence) & (data_im_ro['Age']<=UpperFence)"
      ],
      "execution_count": 128,
      "outputs": [
        {
          "output_type": "execute_result",
          "data": {
            "text/plain": [
              "0       True\n",
              "1       True\n",
              "2       True\n",
              "3       True\n",
              "4       True\n",
              "        ... \n",
              "1465    True\n",
              "1466    True\n",
              "1467    True\n",
              "1468    True\n",
              "1469    True\n",
              "Name: Age, Length: 1462, dtype: bool"
            ]
          },
          "metadata": {
            "tags": []
          },
          "execution_count": 128
        }
      ]
    },
    {
      "cell_type": "code",
      "metadata": {
        "id": "o2XSGh-i-7EH"
      },
      "source": [
        "#there are also outliers in the MonthlyIncome column, but a monthly salary of 20,000 is possible for high ranking employees such as CEO, CTO, CFO etc. Hence, the outliers should be kept as it may also be useful information for the model to learn from.\n",
        "data_im_ro = data_im_ro.loc[(data_im_ro['Age']>=LowerFence) & (data_im_ro['Age']<=UpperFence),:]"
      ],
      "execution_count": 129,
      "outputs": []
    },
    {
      "cell_type": "code",
      "metadata": {
        "colab": {
          "base_uri": "https://localhost:8080/"
        },
        "id": "o38JMitBlpl_",
        "outputId": "df25931b-08f1-4a74-b4e5-4608012dd69a"
      },
      "source": [
        "#using the duplicated function to create a non-visual plot to find numerical duplicates\n",
        "data_num.duplicated()"
      ],
      "execution_count": 130,
      "outputs": [
        {
          "output_type": "execute_result",
          "data": {
            "text/plain": [
              "0       False\n",
              "1       False\n",
              "2       False\n",
              "3       False\n",
              "4       False\n",
              "        ...  \n",
              "1465    False\n",
              "1466    False\n",
              "1467    False\n",
              "1468    False\n",
              "1469    False\n",
              "Length: 1462, dtype: bool"
            ]
          },
          "metadata": {
            "tags": []
          },
          "execution_count": 130
        }
      ]
    },
    {
      "cell_type": "code",
      "metadata": {
        "colab": {
          "base_uri": "https://localhost:8080/"
        },
        "id": "5OXbWFwymft0",
        "outputId": "69b49664-429e-46af-f1c3-4473d3eea259"
      },
      "source": [
        "#counting the number of numerical duplicates\n",
        "data_num.duplicated().sum()"
      ],
      "execution_count": 131,
      "outputs": [
        {
          "output_type": "execute_result",
          "data": {
            "text/plain": [
              "0"
            ]
          },
          "metadata": {
            "tags": []
          },
          "execution_count": 131
        }
      ]
    }
  ]
}
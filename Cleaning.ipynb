{
  "cells": [
    {
      "cell_type": "markdown",
      "metadata": {
        "colab_type": "text",
        "id": "view-in-github"
      },
      "source": [
        "<a href=\"https://colab.research.google.com/github/KeithChan01/cleaning-a-dataset/blob/main/Cleaning.ipynb\" target=\"_parent\"><img src=\"https://colab.research.google.com/assets/colab-badge.svg\" alt=\"Open In Colab\"/></a>"
      ]
    },
    {
      "cell_type": "markdown",
      "metadata": {
        "id": "Qfsd-CZY-4Dr"
      },
      "source": [
        "Management wants to find out which employee will likely resign from the company within the next six months."
      ]
    },
    {
      "cell_type": "code",
      "execution_count": 778,
      "metadata": {
        "id": "0JPXE37O-7QM"
      },
      "outputs": [],
      "source": [
        "#import the excel sheet data and store it into a pandas DataFrames called 'data' \n",
        "import pandas as pd\n",
        "import matplotlib as mpl\n",
        "import matplotlib.pyplot as plt\n",
        "\n",
        "COLOR = 'white'\n",
        "mpl.rcParams['text.color'] = COLOR\n",
        "mpl.rcParams['axes.labelcolor'] = COLOR\n",
        "mpl.rcParams['xtick.color'] = COLOR\n",
        "mpl.rcParams['ytick.color'] = COLOR\n",
        "\n",
        "data = pd.read_excel('HR-Employee-Attrition(1).xlsx')\n"
      ]
    },
    {
      "cell_type": "code",
      "execution_count": 779,
      "metadata": {
        "colab": {
          "base_uri": "https://localhost:8080/",
          "height": 410
        },
        "id": "-Zbn8qsWA0jg",
        "outputId": "aaaa1ef2-182b-4cfc-91ff-3fcdc6011d78"
      },
      "outputs": [
        {
          "data": {
            "text/html": [
              "<div>\n",
              "<style scoped>\n",
              "    .dataframe tbody tr th:only-of-type {\n",
              "        vertical-align: middle;\n",
              "    }\n",
              "\n",
              "    .dataframe tbody tr th {\n",
              "        vertical-align: top;\n",
              "    }\n",
              "\n",
              "    .dataframe thead th {\n",
              "        text-align: right;\n",
              "    }\n",
              "</style>\n",
              "<table border=\"1\" class=\"dataframe\">\n",
              "  <thead>\n",
              "    <tr style=\"text-align: right;\">\n",
              "      <th></th>\n",
              "      <th>EmployeeNumber</th>\n",
              "      <th>Age</th>\n",
              "      <th>Attrition</th>\n",
              "      <th>BusinessTravel</th>\n",
              "      <th>DistanceFromHome</th>\n",
              "      <th>EducationField</th>\n",
              "      <th>Gender</th>\n",
              "      <th>MaritalStatus</th>\n",
              "      <th>MonthlyIncome</th>\n",
              "      <th>JobSatisfaction</th>\n",
              "    </tr>\n",
              "  </thead>\n",
              "  <tbody>\n",
              "    <tr>\n",
              "      <th>count</th>\n",
              "      <td>1470.000000</td>\n",
              "      <td>1470.000000</td>\n",
              "      <td>1470</td>\n",
              "      <td>1470</td>\n",
              "      <td>1470.000000</td>\n",
              "      <td>1470</td>\n",
              "      <td>1470</td>\n",
              "      <td>1470</td>\n",
              "      <td>1470.000000</td>\n",
              "      <td>1354.000000</td>\n",
              "    </tr>\n",
              "    <tr>\n",
              "      <th>unique</th>\n",
              "      <td>NaN</td>\n",
              "      <td>NaN</td>\n",
              "      <td>2</td>\n",
              "      <td>3</td>\n",
              "      <td>NaN</td>\n",
              "      <td>6</td>\n",
              "      <td>2</td>\n",
              "      <td>4</td>\n",
              "      <td>NaN</td>\n",
              "      <td>NaN</td>\n",
              "    </tr>\n",
              "    <tr>\n",
              "      <th>top</th>\n",
              "      <td>NaN</td>\n",
              "      <td>NaN</td>\n",
              "      <td>No</td>\n",
              "      <td>Travel_Rarely</td>\n",
              "      <td>NaN</td>\n",
              "      <td>Life Sciences</td>\n",
              "      <td>Male</td>\n",
              "      <td>Married</td>\n",
              "      <td>NaN</td>\n",
              "      <td>NaN</td>\n",
              "    </tr>\n",
              "    <tr>\n",
              "      <th>freq</th>\n",
              "      <td>NaN</td>\n",
              "      <td>NaN</td>\n",
              "      <td>1233</td>\n",
              "      <td>1043</td>\n",
              "      <td>NaN</td>\n",
              "      <td>606</td>\n",
              "      <td>882</td>\n",
              "      <td>666</td>\n",
              "      <td>NaN</td>\n",
              "      <td>NaN</td>\n",
              "    </tr>\n",
              "    <tr>\n",
              "      <th>mean</th>\n",
              "      <td>735.500000</td>\n",
              "      <td>36.991837</td>\n",
              "      <td>NaN</td>\n",
              "      <td>NaN</td>\n",
              "      <td>9.192517</td>\n",
              "      <td>NaN</td>\n",
              "      <td>NaN</td>\n",
              "      <td>NaN</td>\n",
              "      <td>6502.931293</td>\n",
              "      <td>2.717134</td>\n",
              "    </tr>\n",
              "    <tr>\n",
              "      <th>std</th>\n",
              "      <td>424.496761</td>\n",
              "      <td>9.586548</td>\n",
              "      <td>NaN</td>\n",
              "      <td>NaN</td>\n",
              "      <td>8.106864</td>\n",
              "      <td>NaN</td>\n",
              "      <td>NaN</td>\n",
              "      <td>NaN</td>\n",
              "      <td>4707.956783</td>\n",
              "      <td>1.098498</td>\n",
              "    </tr>\n",
              "    <tr>\n",
              "      <th>min</th>\n",
              "      <td>1.000000</td>\n",
              "      <td>18.000000</td>\n",
              "      <td>NaN</td>\n",
              "      <td>NaN</td>\n",
              "      <td>1.000000</td>\n",
              "      <td>NaN</td>\n",
              "      <td>NaN</td>\n",
              "      <td>NaN</td>\n",
              "      <td>1009.000000</td>\n",
              "      <td>1.000000</td>\n",
              "    </tr>\n",
              "    <tr>\n",
              "      <th>25%</th>\n",
              "      <td>368.250000</td>\n",
              "      <td>30.000000</td>\n",
              "      <td>NaN</td>\n",
              "      <td>NaN</td>\n",
              "      <td>2.000000</td>\n",
              "      <td>NaN</td>\n",
              "      <td>NaN</td>\n",
              "      <td>NaN</td>\n",
              "      <td>2911.000000</td>\n",
              "      <td>2.000000</td>\n",
              "    </tr>\n",
              "    <tr>\n",
              "      <th>50%</th>\n",
              "      <td>735.500000</td>\n",
              "      <td>36.000000</td>\n",
              "      <td>NaN</td>\n",
              "      <td>NaN</td>\n",
              "      <td>7.000000</td>\n",
              "      <td>NaN</td>\n",
              "      <td>NaN</td>\n",
              "      <td>NaN</td>\n",
              "      <td>4919.000000</td>\n",
              "      <td>3.000000</td>\n",
              "    </tr>\n",
              "    <tr>\n",
              "      <th>75%</th>\n",
              "      <td>1102.750000</td>\n",
              "      <td>43.000000</td>\n",
              "      <td>NaN</td>\n",
              "      <td>NaN</td>\n",
              "      <td>14.000000</td>\n",
              "      <td>NaN</td>\n",
              "      <td>NaN</td>\n",
              "      <td>NaN</td>\n",
              "      <td>8379.000000</td>\n",
              "      <td>4.000000</td>\n",
              "    </tr>\n",
              "    <tr>\n",
              "      <th>max</th>\n",
              "      <td>1470.000000</td>\n",
              "      <td>149.000000</td>\n",
              "      <td>NaN</td>\n",
              "      <td>NaN</td>\n",
              "      <td>29.000000</td>\n",
              "      <td>NaN</td>\n",
              "      <td>NaN</td>\n",
              "      <td>NaN</td>\n",
              "      <td>19999.000000</td>\n",
              "      <td>4.000000</td>\n",
              "    </tr>\n",
              "  </tbody>\n",
              "</table>\n",
              "</div>"
            ],
            "text/plain": [
              "        EmployeeNumber          Age Attrition BusinessTravel  \\\n",
              "count      1470.000000  1470.000000      1470           1470   \n",
              "unique             NaN          NaN         2              3   \n",
              "top                NaN          NaN        No  Travel_Rarely   \n",
              "freq               NaN          NaN      1233           1043   \n",
              "mean        735.500000    36.991837       NaN            NaN   \n",
              "std         424.496761     9.586548       NaN            NaN   \n",
              "min           1.000000    18.000000       NaN            NaN   \n",
              "25%         368.250000    30.000000       NaN            NaN   \n",
              "50%         735.500000    36.000000       NaN            NaN   \n",
              "75%        1102.750000    43.000000       NaN            NaN   \n",
              "max        1470.000000   149.000000       NaN            NaN   \n",
              "\n",
              "        DistanceFromHome EducationField Gender MaritalStatus  MonthlyIncome  \\\n",
              "count        1470.000000           1470   1470          1470    1470.000000   \n",
              "unique               NaN              6      2             4            NaN   \n",
              "top                  NaN  Life Sciences   Male       Married            NaN   \n",
              "freq                 NaN            606    882           666            NaN   \n",
              "mean            9.192517            NaN    NaN           NaN    6502.931293   \n",
              "std             8.106864            NaN    NaN           NaN    4707.956783   \n",
              "min             1.000000            NaN    NaN           NaN    1009.000000   \n",
              "25%             2.000000            NaN    NaN           NaN    2911.000000   \n",
              "50%             7.000000            NaN    NaN           NaN    4919.000000   \n",
              "75%            14.000000            NaN    NaN           NaN    8379.000000   \n",
              "max            29.000000            NaN    NaN           NaN   19999.000000   \n",
              "\n",
              "        JobSatisfaction  \n",
              "count       1354.000000  \n",
              "unique              NaN  \n",
              "top                 NaN  \n",
              "freq                NaN  \n",
              "mean           2.717134  \n",
              "std            1.098498  \n",
              "min            1.000000  \n",
              "25%            2.000000  \n",
              "50%            3.000000  \n",
              "75%            4.000000  \n",
              "max            4.000000  "
            ]
          },
          "execution_count": 779,
          "metadata": {},
          "output_type": "execute_result"
        }
      ],
      "source": [
        "#perform descriptive analytics\n",
        "data.describe(include ='all') #by default, only numerical columns will be shown. the 'include' parameter can be added to display all"
      ]
    },
    {
      "cell_type": "code",
      "execution_count": 780,
      "metadata": {
        "colab": {
          "base_uri": "https://localhost:8080/"
        },
        "id": "dbPW_tow_Vfd",
        "outputId": "99f8ffa0-148c-4f27-a702-b5ef8f6358fd"
      },
      "outputs": [
        {
          "name": "stdout",
          "output_type": "stream",
          "text": [
            "   EmployeeNumber  Age Attrition     BusinessTravel  DistanceFromHome  \\\n",
            "0               1   41       Yes      Travel_Rarely                 1   \n",
            "1               2   49        No  Travel_Frequently                 8   \n",
            "2               3   37       Yes      Travel_Rarely                 2   \n",
            "3               4   33        No  Travel_Frequently                 3   \n",
            "4               5   27        No      Travel_Rarely                 2   \n",
            "\n",
            "  EducationField  Gender MaritalStatus  MonthlyIncome  JobSatisfaction  \n",
            "0  Life Sciences  Female        Single           5993              4.0  \n",
            "1  Life Sciences    Male       Married           5130              2.0  \n",
            "2          Other    Male        Single           2090              3.0  \n",
            "3  Life Sciences  Female       Married           2909              3.0  \n",
            "4        Medical    Male       Married           3468              2.0  \n",
            "(1470, 10)\n",
            "Index(['EmployeeNumber', 'Age', 'Attrition', 'BusinessTravel',\n",
            "       'DistanceFromHome', 'EducationField', 'Gender', 'MaritalStatus',\n",
            "       'MonthlyIncome', 'JobSatisfaction'],\n",
            "      dtype='object')\n",
            "EmployeeNumber        int64\n",
            "Age                   int64\n",
            "Attrition            object\n",
            "BusinessTravel       object\n",
            "DistanceFromHome      int64\n",
            "EducationField       object\n",
            "Gender               object\n",
            "MaritalStatus        object\n",
            "MonthlyIncome         int64\n",
            "JobSatisfaction     float64\n",
            "dtype: object\n"
          ]
        }
      ],
      "source": [
        "#begin diagnostic analytics\n",
        "#display first 5 rows of data to understand it and check for errors in datatype\n",
        "print(data.head())\n",
        "#display the number of rows and columns in the dataset\n",
        "print(data.shape)\n",
        "#display the names of the columns in the dataset\n",
        "print(data.columns)\n",
        "#display the data types of each column\n",
        "print(data.dtypes)"
      ]
    },
    {
      "cell_type": "code",
      "execution_count": 781,
      "metadata": {
        "colab": {
          "base_uri": "https://localhost:8080/",
          "height": 224
        },
        "id": "76kqEnzFYP2z",
        "outputId": "26cb1938-5c5e-4ce9-947e-2a26c92ababb"
      },
      "outputs": [
        {
          "data": {
            "text/html": [
              "<div>\n",
              "<style scoped>\n",
              "    .dataframe tbody tr th:only-of-type {\n",
              "        vertical-align: middle;\n",
              "    }\n",
              "\n",
              "    .dataframe tbody tr th {\n",
              "        vertical-align: top;\n",
              "    }\n",
              "\n",
              "    .dataframe thead th {\n",
              "        text-align: right;\n",
              "    }\n",
              "</style>\n",
              "<table border=\"1\" class=\"dataframe\">\n",
              "  <thead>\n",
              "    <tr style=\"text-align: right;\">\n",
              "      <th></th>\n",
              "      <th>EmployeeNumber</th>\n",
              "      <th>Age</th>\n",
              "      <th>Attrition</th>\n",
              "      <th>BusinessTravel</th>\n",
              "      <th>DistanceFromHome</th>\n",
              "      <th>EducationField</th>\n",
              "      <th>Gender</th>\n",
              "      <th>MaritalStatus</th>\n",
              "      <th>MonthlyIncome</th>\n",
              "      <th>JobSatisfaction</th>\n",
              "    </tr>\n",
              "  </thead>\n",
              "  <tbody>\n",
              "    <tr>\n",
              "      <th>0</th>\n",
              "      <td>1</td>\n",
              "      <td>41</td>\n",
              "      <td>Yes</td>\n",
              "      <td>Travel_Rarely</td>\n",
              "      <td>1</td>\n",
              "      <td>Life Sciences</td>\n",
              "      <td>Female</td>\n",
              "      <td>Single</td>\n",
              "      <td>5993</td>\n",
              "      <td>4.0</td>\n",
              "    </tr>\n",
              "    <tr>\n",
              "      <th>1</th>\n",
              "      <td>2</td>\n",
              "      <td>49</td>\n",
              "      <td>No</td>\n",
              "      <td>Travel_Frequently</td>\n",
              "      <td>8</td>\n",
              "      <td>Life Sciences</td>\n",
              "      <td>Male</td>\n",
              "      <td>Married</td>\n",
              "      <td>5130</td>\n",
              "      <td>2.0</td>\n",
              "    </tr>\n",
              "    <tr>\n",
              "      <th>2</th>\n",
              "      <td>3</td>\n",
              "      <td>37</td>\n",
              "      <td>Yes</td>\n",
              "      <td>Travel_Rarely</td>\n",
              "      <td>2</td>\n",
              "      <td>Other</td>\n",
              "      <td>Male</td>\n",
              "      <td>Single</td>\n",
              "      <td>2090</td>\n",
              "      <td>3.0</td>\n",
              "    </tr>\n",
              "    <tr>\n",
              "      <th>3</th>\n",
              "      <td>4</td>\n",
              "      <td>33</td>\n",
              "      <td>No</td>\n",
              "      <td>Travel_Frequently</td>\n",
              "      <td>3</td>\n",
              "      <td>Life Sciences</td>\n",
              "      <td>Female</td>\n",
              "      <td>Married</td>\n",
              "      <td>2909</td>\n",
              "      <td>3.0</td>\n",
              "    </tr>\n",
              "    <tr>\n",
              "      <th>4</th>\n",
              "      <td>5</td>\n",
              "      <td>27</td>\n",
              "      <td>No</td>\n",
              "      <td>Travel_Rarely</td>\n",
              "      <td>2</td>\n",
              "      <td>Medical</td>\n",
              "      <td>Male</td>\n",
              "      <td>Married</td>\n",
              "      <td>3468</td>\n",
              "      <td>2.0</td>\n",
              "    </tr>\n",
              "  </tbody>\n",
              "</table>\n",
              "</div>"
            ],
            "text/plain": [
              "   EmployeeNumber  Age Attrition     BusinessTravel  DistanceFromHome  \\\n",
              "0               1   41       Yes      Travel_Rarely                 1   \n",
              "1               2   49        No  Travel_Frequently                 8   \n",
              "2               3   37       Yes      Travel_Rarely                 2   \n",
              "3               4   33        No  Travel_Frequently                 3   \n",
              "4               5   27        No      Travel_Rarely                 2   \n",
              "\n",
              "  EducationField  Gender MaritalStatus  MonthlyIncome  JobSatisfaction  \n",
              "0  Life Sciences  Female        Single           5993              4.0  \n",
              "1  Life Sciences    Male       Married           5130              2.0  \n",
              "2          Other    Male        Single           2090              3.0  \n",
              "3  Life Sciences  Female       Married           2909              3.0  \n",
              "4        Medical    Male       Married           3468              2.0  "
            ]
          },
          "execution_count": 781,
          "metadata": {},
          "output_type": "execute_result"
        }
      ],
      "source": [
        "#making a copy of the original data to clean\n",
        "data_cleaned = data.copy()\n",
        "data_cleaned.head()"
      ]
    },
    {
      "cell_type": "code",
      "execution_count": 782,
      "metadata": {
        "colab": {
          "base_uri": "https://localhost:8080/"
        },
        "id": "umBvyFIzTJgE",
        "outputId": "044bc56f-a3bd-445d-9619-484d7f424595"
      },
      "outputs": [
        {
          "name": "stdout",
          "output_type": "stream",
          "text": [
            "No     1233\n",
            "Yes     237\n",
            "Name: Attrition, dtype: int64\n",
            "\n",
            "There are a total of 2 unique categories\n",
            "\n",
            "\n",
            "Travel_Rarely        1043\n",
            "Travel_Frequently     277\n",
            "Non-Travel            150\n",
            "Name: BusinessTravel, dtype: int64\n",
            "\n",
            "There are a total of 3 unique categories\n",
            "\n",
            "\n",
            "Life Sciences       606\n",
            "Medical             464\n",
            "Marketing           159\n",
            "Technical Degree    132\n",
            "Other                82\n",
            "Human Resources      27\n",
            "Name: EducationField, dtype: int64\n",
            "\n",
            "There are a total of 6 unique categories\n",
            "\n",
            "\n",
            "Male      882\n",
            "Female    588\n",
            "Name: Gender, dtype: int64\n",
            "\n",
            "There are a total of 2 unique categories\n",
            "\n",
            "\n",
            "Married         666\n",
            "Single          470\n",
            "Divorced        326\n",
            "NOT_CAPTURED      8\n",
            "Name: MaritalStatus, dtype: int64\n",
            "\n",
            "There are a total of 4 unique categories\n"
          ]
        }
      ],
      "source": [
        "#use the value_counts() function to calculate the frequency of counts for each categorical column\n",
        "print(data_cleaned['Attrition'].value_counts())\n",
        "print(\"\\nThere are a total of \" + str(data_cleaned['Attrition'].value_counts().count()) + \" unique categories\")\n",
        "\n",
        "print(\"\\n\")\n",
        "print(data_cleaned['BusinessTravel'].value_counts())\n",
        "print(\"\\nThere are a total of \" + str(data_cleaned['BusinessTravel'].value_counts().count()) + \" unique categories\")\n",
        "\n",
        "print(\"\\n\")\n",
        "print(data_cleaned['EducationField'].value_counts())\n",
        "print(\"\\nThere are a total of \" + str(data_cleaned['EducationField'].value_counts().count()) + \" unique categories\")\n",
        "\n",
        "print(\"\\n\")\n",
        "print(data_cleaned['Gender'].value_counts())\n",
        "print(\"\\nThere are a total of \" + str(data_cleaned['Gender'].value_counts().count()) + \" unique categories\")\n",
        "\n",
        "print(\"\\n\")\n",
        "print(data_cleaned['MaritalStatus'].value_counts())\n",
        "print(\"\\nThere are a total of \" + str(data_cleaned['MaritalStatus'].value_counts().count()) + \" unique categories\")"
      ]
    },
    {
      "cell_type": "code",
      "execution_count": 783,
      "metadata": {
        "colab": {
          "base_uri": "https://localhost:8080/"
        },
        "id": "uiW55BqHih7M",
        "outputId": "a70ba4b5-c85b-43d1-b6be-e64567ec5a39"
      },
      "outputs": [
        {
          "name": "stdout",
          "output_type": "stream",
          "text": [
            "Missing values count for each column\n",
            "EmployeeNumber        0\n",
            "Age                   0\n",
            "Attrition             0\n",
            "BusinessTravel        0\n",
            "DistanceFromHome      0\n",
            "EducationField        0\n",
            "Gender                0\n",
            "MaritalStatus         0\n",
            "MonthlyIncome         0\n",
            "JobSatisfaction     116\n",
            "dtype: int64\n",
            "\n",
            "Missing values proportion for each column\n",
            "EmployeeNumber      0.000000\n",
            "Age                 0.000000\n",
            "Attrition           0.000000\n",
            "BusinessTravel      0.000000\n",
            "DistanceFromHome    0.000000\n",
            "EducationField      0.000000\n",
            "Gender              0.000000\n",
            "MaritalStatus       0.000000\n",
            "MonthlyIncome       0.000000\n",
            "JobSatisfaction     0.078912\n",
            "dtype: float64\n"
          ]
        }
      ],
      "source": [
        "#using a non-visual plot to count the frequency of missing values for columns\n",
        "print(\"Missing values count for each column\")\n",
        "print(data_cleaned.isnull().sum())\n",
        "missing_prop = data_cleaned.isnull().sum()/len(data_cleaned)\n",
        "print(\"\\nMissing values proportion for each column\")\n",
        "print(missing_prop)"
      ]
    },
    {
      "cell_type": "code",
      "execution_count": 784,
      "metadata": {
        "colab": {
          "base_uri": "https://localhost:8080/",
          "height": 566
        },
        "id": "3kYisS-bXX1E",
        "outputId": "6d65eba5-3c02-4e47-9f81-866a497879bd"
      },
      "outputs": [
        {
          "data": {
            "image/png": "[encoded data removed]",
            "text/plain": [
              "<Figure size 1440x1440 with 5 Axes>"
            ]
          },
          "metadata": {
            "needs_background": "dark"
          },
          "output_type": "display_data"
        }
      ],
      "source": [
        "#as some columns have many values, frequency distribution bar plots can be used to visualise instead for categorical columns\n",
        "\n",
        "plt.figure(figsize = (20,20))\n",
        "\n",
        "plt.subplot(5,2,1)\n",
        "plt.title(\"Frequency Distribution for Attrition\")\n",
        "plt.ylabel('Counts')\n",
        "plt.bar(data_cleaned['Attrition'].value_counts().index, data_cleaned['Attrition'].value_counts().values)\n",
        "\n",
        "plt.subplot(5,2,2)\n",
        "plt.title('Frequency Distribution for BusinessTravel')\n",
        "plt.ylabel('Counts')\n",
        "plt.bar(data_cleaned['BusinessTravel'].value_counts().index, data_cleaned['BusinessTravel'].value_counts().values)\n",
        "\n",
        "plt.subplot(5,2,3)\n",
        "plt.title('Frequency Distribution for EducationField')\n",
        "plt.ylabel('Counts')\n",
        "plt.bar(data_cleaned['EducationField'].value_counts().index, data_cleaned['EducationField'].value_counts().values)\n",
        "\n",
        "plt.subplot(5,2,4)\n",
        "plt.title('Frequency Distribution for Gender')\n",
        "plt.ylabel('Counts')\n",
        "plt.bar(data_cleaned['Gender'].value_counts().index, data_cleaned['Gender'].value_counts().values)\n",
        "\n",
        "plt.subplot(5,2,5)\n",
        "plt.title('Frequency Distribution for MaritalStatus')\n",
        "plt.ylabel('Counts')\n",
        "plt.bar(data_cleaned['MaritalStatus'].value_counts().index, data_cleaned['MaritalStatus'].value_counts().values)\n",
        "\n",
        "plt.show()"
      ]
    },
    {
      "cell_type": "code",
      "execution_count": 785,
      "metadata": {
        "colab": {
          "base_uri": "https://localhost:8080/"
        },
        "id": "TEOXUME4zVOe",
        "outputId": "0547a421-2c63-4356-ab84-c63ba67f331b"
      },
      "outputs": [
        {
          "data": {
            "text/plain": [
              "0       True\n",
              "1       True\n",
              "2       True\n",
              "3       True\n",
              "4       True\n",
              "        ... \n",
              "1465    True\n",
              "1466    True\n",
              "1467    True\n",
              "1468    True\n",
              "1469    True\n",
              "Name: MaritalStatus, Length: 1470, dtype: bool"
            ]
          },
          "execution_count": 785,
          "metadata": {},
          "output_type": "execute_result"
        }
      ],
      "source": [
        "#checking if the formula is correct\n",
        "data_cleaned['MaritalStatus']!= 'NOT_CAPTURED'"
      ]
    },
    {
      "cell_type": "code",
      "execution_count": 786,
      "metadata": {
        "id": "kJm5nPf82ceS"
      },
      "outputs": [],
      "source": [
        "#removing all rows with the 'NOT_CAPTURED' category in the 'MaritalStatus' column\n",
        "data_cleaned = data.loc[data['MaritalStatus']!= 'NOT_CAPTURED']"
      ]
    },
    {
      "cell_type": "code",
      "execution_count": 787,
      "metadata": {
        "colab": {
          "base_uri": "https://localhost:8080/"
        },
        "id": "eDaBUeL527M9",
        "outputId": "d0b038e5-a8b0-4bb1-99cd-7943778df675"
      },
      "outputs": [
        {
          "data": {
            "text/plain": [
              "Married     666\n",
              "Single      470\n",
              "Divorced    326\n",
              "Name: MaritalStatus, dtype: int64"
            ]
          },
          "execution_count": 787,
          "metadata": {},
          "output_type": "execute_result"
        }
      ],
      "source": [
        "#verifying that there are no longer any counts of 'NOT_CAPTURED' in the column\n",
        "data_cleaned['MaritalStatus'].value_counts()"
      ]
    },
    {
      "cell_type": "code",
      "execution_count": 788,
      "metadata": {
        "colab": {
          "base_uri": "https://localhost:8080/"
        },
        "id": "OwKrEBpShnUL",
        "outputId": "5ab15bf7-d9f2-46e7-a7ca-3027668dbd53"
      },
      "outputs": [
        {
          "name": "stdout",
          "output_type": "stream",
          "text": [
            "Missing values count for each column\n",
            "EmployeeNumber        0\n",
            "Age                   0\n",
            "Attrition             0\n",
            "BusinessTravel        0\n",
            "DistanceFromHome      0\n",
            "EducationField        0\n",
            "Gender                0\n",
            "MaritalStatus         0\n",
            "MonthlyIncome         0\n",
            "JobSatisfaction     116\n",
            "dtype: int64\n",
            "\n",
            "Missing values proportion for each column\n",
            "EmployeeNumber      0.000000\n",
            "Age                 0.000000\n",
            "Attrition           0.000000\n",
            "BusinessTravel      0.000000\n",
            "DistanceFromHome    0.000000\n",
            "EducationField      0.000000\n",
            "Gender              0.000000\n",
            "MaritalStatus       0.000000\n",
            "MonthlyIncome       0.000000\n",
            "JobSatisfaction     0.079343\n",
            "dtype: float64\n"
          ]
        }
      ],
      "source": [
        "#using a frequency count to count the frequency of missing values of columns\n",
        "print(\"Missing values count for each column\")\n",
        "print(data_cleaned.isnull().sum())\n",
        "missing_prop = data_cleaned.isnull().sum()/len(data_cleaned)\n",
        "print(\"\\nMissing values proportion for each column\")\n",
        "print(missing_prop)"
      ]
    },
    {
      "cell_type": "code",
      "execution_count": 789,
      "metadata": {
        "colab": {
          "base_uri": "https://localhost:8080/",
          "height": 700
        },
        "id": "egYSSYE6io3e",
        "outputId": "aeecf095-ba65-4be0-9e7a-5103bd808246"
      },
      "outputs": [
        {
          "data": {
            "text/plain": [
              "<AxesSubplot:>"
            ]
          },
          "execution_count": 789,
          "metadata": {},
          "output_type": "execute_result"
        },
        {
          "data": {
            "image/png": "[encoded data removed]",
            "text/plain": [
              "<Figure size 720x720 with 2 Axes>"
            ]
          },
          "metadata": {
            "needs_background": "dark"
          },
          "output_type": "display_data"
        }
      ],
      "source": [
        "#using a visual plot to create a heat map for missing numerical values\n",
        "import seaborn as sns\n",
        "plt.figure(figsize = [10,10])\n",
        "sns.heatmap(data_cleaned.isnull())"
      ]
    },
    {
      "cell_type": "code",
      "execution_count": 790,
      "metadata": {
        "colab": {
          "base_uri": "https://localhost:8080/",
          "height": 265
        },
        "id": "xCpHCgeXoXiO",
        "outputId": "ff2b1b1b-d17d-499c-e75b-ba2c454e0ac9"
      },
      "outputs": [
        {
          "data": {
            "image/png": "[encoded data removed]",
            "text/plain": [
              "<Figure size 432x288 with 1 Axes>"
            ]
          },
          "metadata": {
            "needs_background": "dark"
          },
          "output_type": "display_data"
        }
      ],
      "source": [
        "#as the JobSatisfaction column has more than 5% but lower than 20% of missing values, the missing values must be imputed\n",
        "plt.hist(data['JobSatisfaction'], bins = 4, edgecolor = 'black')\n",
        "plt.axvline(x = data['JobSatisfaction'].mean(), linestyle = 'dashed', color = 'red')\n",
        "plt.axvline(x = data['JobSatisfaction'].median(), linestyle = 'dashed', color = 'black')\n",
        "plt.show()"
      ]
    },
    {
      "cell_type": "code",
      "execution_count": 791,
      "metadata": {
        "colab": {
          "base_uri": "https://localhost:8080/",
          "height": 541
        },
        "id": "TkxrSYPpvUHL",
        "outputId": "e6873409-00c4-4171-feee-3b015f05a095"
      },
      "outputs": [
        {
          "name": "stderr",
          "output_type": "stream",
          "text": [
            "c:\\Anaconda3\\lib\\site-packages\\pandas\\core\\generic.py:6392: SettingWithCopyWarning: \n",
            "A value is trying to be set on a copy of a slice from a DataFrame\n",
            "\n",
            "See the caveats in the documentation: https://pandas.pydata.org/pandas-docs/stable/user_guide/indexing.html#returning-a-view-versus-a-copy\n",
            "  return self._update_inplace(result)\n"
          ]
        },
        {
          "data": {
            "text/html": [
              "<div>\n",
              "<style scoped>\n",
              "    .dataframe tbody tr th:only-of-type {\n",
              "        vertical-align: middle;\n",
              "    }\n",
              "\n",
              "    .dataframe tbody tr th {\n",
              "        vertical-align: top;\n",
              "    }\n",
              "\n",
              "    .dataframe thead th {\n",
              "        text-align: right;\n",
              "    }\n",
              "</style>\n",
              "<table border=\"1\" class=\"dataframe\">\n",
              "  <thead>\n",
              "    <tr style=\"text-align: right;\">\n",
              "      <th></th>\n",
              "      <th>EmployeeNumber</th>\n",
              "      <th>Age</th>\n",
              "      <th>Attrition</th>\n",
              "      <th>BusinessTravel</th>\n",
              "      <th>DistanceFromHome</th>\n",
              "      <th>EducationField</th>\n",
              "      <th>Gender</th>\n",
              "      <th>MaritalStatus</th>\n",
              "      <th>MonthlyIncome</th>\n",
              "      <th>JobSatisfaction</th>\n",
              "    </tr>\n",
              "  </thead>\n",
              "  <tbody>\n",
              "    <tr>\n",
              "      <th>55</th>\n",
              "      <td>56</td>\n",
              "      <td>33</td>\n",
              "      <td>No</td>\n",
              "      <td>Travel_Frequently</td>\n",
              "      <td>1</td>\n",
              "      <td>Life Sciences</td>\n",
              "      <td>Female</td>\n",
              "      <td>Single</td>\n",
              "      <td>13458</td>\n",
              "      <td>NaN</td>\n",
              "    </tr>\n",
              "    <tr>\n",
              "      <th>56</th>\n",
              "      <td>57</td>\n",
              "      <td>35</td>\n",
              "      <td>No</td>\n",
              "      <td>Travel_Frequently</td>\n",
              "      <td>18</td>\n",
              "      <td>Life Sciences</td>\n",
              "      <td>Male</td>\n",
              "      <td>Married</td>\n",
              "      <td>9069</td>\n",
              "      <td>NaN</td>\n",
              "    </tr>\n",
              "    <tr>\n",
              "      <th>61</th>\n",
              "      <td>62</td>\n",
              "      <td>38</td>\n",
              "      <td>No</td>\n",
              "      <td>Travel_Frequently</td>\n",
              "      <td>29</td>\n",
              "      <td>Life Sciences</td>\n",
              "      <td>Female</td>\n",
              "      <td>Single</td>\n",
              "      <td>2406</td>\n",
              "      <td>NaN</td>\n",
              "    </tr>\n",
              "    <tr>\n",
              "      <th>66</th>\n",
              "      <td>67</td>\n",
              "      <td>36</td>\n",
              "      <td>No</td>\n",
              "      <td>Travel_Frequently</td>\n",
              "      <td>11</td>\n",
              "      <td>Life Sciences</td>\n",
              "      <td>Male</td>\n",
              "      <td>Single</td>\n",
              "      <td>6499</td>\n",
              "      <td>NaN</td>\n",
              "    </tr>\n",
              "    <tr>\n",
              "      <th>68</th>\n",
              "      <td>69</td>\n",
              "      <td>35</td>\n",
              "      <td>No</td>\n",
              "      <td>Travel_Frequently</td>\n",
              "      <td>1</td>\n",
              "      <td>Medical</td>\n",
              "      <td>Male</td>\n",
              "      <td>Married</td>\n",
              "      <td>2194</td>\n",
              "      <td>NaN</td>\n",
              "    </tr>\n",
              "    <tr>\n",
              "      <th>...</th>\n",
              "      <td>...</td>\n",
              "      <td>...</td>\n",
              "      <td>...</td>\n",
              "      <td>...</td>\n",
              "      <td>...</td>\n",
              "      <td>...</td>\n",
              "      <td>...</td>\n",
              "      <td>...</td>\n",
              "      <td>...</td>\n",
              "      <td>...</td>\n",
              "    </tr>\n",
              "    <tr>\n",
              "      <th>1375</th>\n",
              "      <td>1376</td>\n",
              "      <td>32</td>\n",
              "      <td>Yes</td>\n",
              "      <td>Travel_Frequently</td>\n",
              "      <td>5</td>\n",
              "      <td>Life Sciences</td>\n",
              "      <td>Female</td>\n",
              "      <td>Single</td>\n",
              "      <td>2432</td>\n",
              "      <td>NaN</td>\n",
              "    </tr>\n",
              "    <tr>\n",
              "      <th>1377</th>\n",
              "      <td>1378</td>\n",
              "      <td>49</td>\n",
              "      <td>No</td>\n",
              "      <td>Travel_Frequently</td>\n",
              "      <td>2</td>\n",
              "      <td>Life Sciences</td>\n",
              "      <td>Male</td>\n",
              "      <td>Married</td>\n",
              "      <td>19161</td>\n",
              "      <td>NaN</td>\n",
              "    </tr>\n",
              "    <tr>\n",
              "      <th>1379</th>\n",
              "      <td>1380</td>\n",
              "      <td>27</td>\n",
              "      <td>Yes</td>\n",
              "      <td>Travel_Frequently</td>\n",
              "      <td>22</td>\n",
              "      <td>Human Resources</td>\n",
              "      <td>Female</td>\n",
              "      <td>Married</td>\n",
              "      <td>2863</td>\n",
              "      <td>NaN</td>\n",
              "    </tr>\n",
              "    <tr>\n",
              "      <th>1389</th>\n",
              "      <td>1390</td>\n",
              "      <td>31</td>\n",
              "      <td>No</td>\n",
              "      <td>Travel_Frequently</td>\n",
              "      <td>1</td>\n",
              "      <td>Life Sciences</td>\n",
              "      <td>Male</td>\n",
              "      <td>Married</td>\n",
              "      <td>5003</td>\n",
              "      <td>NaN</td>\n",
              "    </tr>\n",
              "    <tr>\n",
              "      <th>1395</th>\n",
              "      <td>1396</td>\n",
              "      <td>31</td>\n",
              "      <td>Yes</td>\n",
              "      <td>Travel_Frequently</td>\n",
              "      <td>26</td>\n",
              "      <td>Marketing</td>\n",
              "      <td>Male</td>\n",
              "      <td>Married</td>\n",
              "      <td>5617</td>\n",
              "      <td>NaN</td>\n",
              "    </tr>\n",
              "  </tbody>\n",
              "</table>\n",
              "<p>116 rows × 10 columns</p>\n",
              "</div>"
            ],
            "text/plain": [
              "      EmployeeNumber  Age Attrition     BusinessTravel  DistanceFromHome  \\\n",
              "55                56   33        No  Travel_Frequently                 1   \n",
              "56                57   35        No  Travel_Frequently                18   \n",
              "61                62   38        No  Travel_Frequently                29   \n",
              "66                67   36        No  Travel_Frequently                11   \n",
              "68                69   35        No  Travel_Frequently                 1   \n",
              "...              ...  ...       ...                ...               ...   \n",
              "1375            1376   32       Yes  Travel_Frequently                 5   \n",
              "1377            1378   49        No  Travel_Frequently                 2   \n",
              "1379            1380   27       Yes  Travel_Frequently                22   \n",
              "1389            1390   31        No  Travel_Frequently                 1   \n",
              "1395            1396   31       Yes  Travel_Frequently                26   \n",
              "\n",
              "       EducationField  Gender MaritalStatus  MonthlyIncome  JobSatisfaction  \n",
              "55      Life Sciences  Female        Single          13458              NaN  \n",
              "56      Life Sciences    Male       Married           9069              NaN  \n",
              "61      Life Sciences  Female        Single           2406              NaN  \n",
              "66      Life Sciences    Male        Single           6499              NaN  \n",
              "68            Medical    Male       Married           2194              NaN  \n",
              "...               ...     ...           ...            ...              ...  \n",
              "1375    Life Sciences  Female        Single           2432              NaN  \n",
              "1377    Life Sciences    Male       Married          19161              NaN  \n",
              "1379  Human Resources  Female       Married           2863              NaN  \n",
              "1389    Life Sciences    Male       Married           5003              NaN  \n",
              "1395        Marketing    Male       Married           5617              NaN  \n",
              "\n",
              "[116 rows x 10 columns]"
            ]
          },
          "execution_count": 791,
          "metadata": {},
          "output_type": "execute_result"
        }
      ],
      "source": [
        "#from the histogram, 'JobSatisfaction' is not normally distributed and has many frequency counts of customers with scores of 2.5 and below. Hence, the mean will be pulled towards the left in the distribution, and median would be a better choice.\n",
        "data_cleaned['JobSatisfaction'].fillna(value= data['JobSatisfaction'].median(), axis = 0, inplace = True)\n",
        "data.loc[data['JobSatisfaction'].isna(),:]"
      ]
    },
    {
      "cell_type": "code",
      "execution_count": 792,
      "metadata": {
        "colab": {
          "base_uri": "https://localhost:8080/",
          "height": 224
        },
        "id": "WqSC6Tdbv-Ev",
        "outputId": "60a5e9d0-d974-4cfe-be7f-bd6bfc614bf8"
      },
      "outputs": [
        {
          "data": {
            "text/html": [
              "<div>\n",
              "<style scoped>\n",
              "    .dataframe tbody tr th:only-of-type {\n",
              "        vertical-align: middle;\n",
              "    }\n",
              "\n",
              "    .dataframe tbody tr th {\n",
              "        vertical-align: top;\n",
              "    }\n",
              "\n",
              "    .dataframe thead th {\n",
              "        text-align: right;\n",
              "    }\n",
              "</style>\n",
              "<table border=\"1\" class=\"dataframe\">\n",
              "  <thead>\n",
              "    <tr style=\"text-align: right;\">\n",
              "      <th></th>\n",
              "      <th>EmployeeNumber</th>\n",
              "      <th>Age</th>\n",
              "      <th>Attrition</th>\n",
              "      <th>BusinessTravel</th>\n",
              "      <th>DistanceFromHome</th>\n",
              "      <th>EducationField</th>\n",
              "      <th>Gender</th>\n",
              "      <th>MaritalStatus</th>\n",
              "      <th>MonthlyIncome</th>\n",
              "      <th>JobSatisfaction</th>\n",
              "    </tr>\n",
              "  </thead>\n",
              "  <tbody>\n",
              "    <tr>\n",
              "      <th>55</th>\n",
              "      <td>56</td>\n",
              "      <td>33</td>\n",
              "      <td>No</td>\n",
              "      <td>Travel_Frequently</td>\n",
              "      <td>1</td>\n",
              "      <td>Life Sciences</td>\n",
              "      <td>Female</td>\n",
              "      <td>Single</td>\n",
              "      <td>13458</td>\n",
              "      <td>3.0</td>\n",
              "    </tr>\n",
              "    <tr>\n",
              "      <th>56</th>\n",
              "      <td>57</td>\n",
              "      <td>35</td>\n",
              "      <td>No</td>\n",
              "      <td>Travel_Frequently</td>\n",
              "      <td>18</td>\n",
              "      <td>Life Sciences</td>\n",
              "      <td>Male</td>\n",
              "      <td>Married</td>\n",
              "      <td>9069</td>\n",
              "      <td>3.0</td>\n",
              "    </tr>\n",
              "    <tr>\n",
              "      <th>61</th>\n",
              "      <td>62</td>\n",
              "      <td>38</td>\n",
              "      <td>No</td>\n",
              "      <td>Travel_Frequently</td>\n",
              "      <td>29</td>\n",
              "      <td>Life Sciences</td>\n",
              "      <td>Female</td>\n",
              "      <td>Single</td>\n",
              "      <td>2406</td>\n",
              "      <td>3.0</td>\n",
              "    </tr>\n",
              "    <tr>\n",
              "      <th>66</th>\n",
              "      <td>67</td>\n",
              "      <td>36</td>\n",
              "      <td>No</td>\n",
              "      <td>Travel_Frequently</td>\n",
              "      <td>11</td>\n",
              "      <td>Life Sciences</td>\n",
              "      <td>Male</td>\n",
              "      <td>Single</td>\n",
              "      <td>6499</td>\n",
              "      <td>3.0</td>\n",
              "    </tr>\n",
              "    <tr>\n",
              "      <th>68</th>\n",
              "      <td>69</td>\n",
              "      <td>35</td>\n",
              "      <td>No</td>\n",
              "      <td>Travel_Frequently</td>\n",
              "      <td>1</td>\n",
              "      <td>Medical</td>\n",
              "      <td>Male</td>\n",
              "      <td>Married</td>\n",
              "      <td>2194</td>\n",
              "      <td>3.0</td>\n",
              "    </tr>\n",
              "  </tbody>\n",
              "</table>\n",
              "</div>"
            ],
            "text/plain": [
              "    EmployeeNumber  Age Attrition     BusinessTravel  DistanceFromHome  \\\n",
              "55              56   33        No  Travel_Frequently                 1   \n",
              "56              57   35        No  Travel_Frequently                18   \n",
              "61              62   38        No  Travel_Frequently                29   \n",
              "66              67   36        No  Travel_Frequently                11   \n",
              "68              69   35        No  Travel_Frequently                 1   \n",
              "\n",
              "   EducationField  Gender MaritalStatus  MonthlyIncome  JobSatisfaction  \n",
              "55  Life Sciences  Female        Single          13458              3.0  \n",
              "56  Life Sciences    Male       Married           9069              3.0  \n",
              "61  Life Sciences  Female        Single           2406              3.0  \n",
              "66  Life Sciences    Male        Single           6499              3.0  \n",
              "68        Medical    Male       Married           2194              3.0  "
            ]
          },
          "execution_count": 792,
          "metadata": {},
          "output_type": "execute_result"
        }
      ],
      "source": [
        "#verifying the imputation by checking to see if the missing values have been replaced with the median\n",
        "data_cleaned.loc[[55,56,61,66,68]]"
      ]
    },
    {
      "cell_type": "code",
      "execution_count": 793,
      "metadata": {
        "colab": {
          "base_uri": "https://localhost:8080/",
          "height": 334
        },
        "id": "wirmsQ7gjmae",
        "outputId": "b81bb0e4-5c86-47c8-d31b-2ab37118ca2d"
      },
      "outputs": [
        {
          "data": {
            "image/png": "[encoded data removed]",
            "text/plain": [
              "<Figure size 1080x360 with 4 Axes>"
            ]
          },
          "metadata": {
            "needs_background": "dark"
          },
          "output_type": "display_data"
        }
      ],
      "source": [
        "#using a boxplot to find numerical outliers\n",
        "plt.figure(figsize = [15,5])\n",
        "\n",
        "plt.subplot(1,4,1)\n",
        "plt.xlabel('Age')\n",
        "plt.boxplot(data_cleaned['Age'].dropna())\n",
        "\n",
        "plt.subplot(1,4,2)\n",
        "plt.xlabel('DistanceFromHome')\n",
        "plt.boxplot(data_cleaned['DistanceFromHome'].dropna())\n",
        "\n",
        "plt.subplot(1,4,3)\n",
        "plt.xlabel('MonthlyIncome')\n",
        "plt.boxplot(data_cleaned['MonthlyIncome'].dropna())\n",
        "\n",
        "plt.subplot(1,4,4)\n",
        "plt.xlabel('JobSatisfaction')\n",
        "plt.boxplot(data_cleaned['JobSatisfaction'].dropna())\n",
        "\n",
        "plt.show()"
      ]
    },
    {
      "cell_type": "code",
      "execution_count": 794,
      "metadata": {
        "colab": {
          "base_uri": "https://localhost:8080/"
        },
        "id": "F7v47YMu61SJ",
        "outputId": "6f1e0e06-9af9-482e-b500-5743df542149"
      },
      "outputs": [
        {
          "name": "stdout",
          "output_type": "stream",
          "text": [
            "Q1=30.0,Q3=43.0, MEDIAN=36.0, IQR=13.0, UpperFence=62.5, LowerFence=10.5\n"
          ]
        }
      ],
      "source": [
        "#computing the upper and lower fence values to remove the outlier\n",
        "Q1 = data_cleaned['Age'].quantile(0.25)\n",
        "Q3 = data_cleaned['Age'].quantile(0.75)\n",
        "MEDIAN = data_cleaned['Age'].median()\n",
        "IQR = Q3 - Q1\n",
        "UpperFence = Q3 + 1.5*IQR\n",
        "LowerFence = Q1 - 1.5*IQR\n",
        "print(\"Q1={},Q3={}, MEDIAN={}, IQR={}, UpperFence={}, LowerFence={}\".format(Q1,Q3,MEDIAN,IQR,UpperFence,LowerFence))"
      ]
    },
    {
      "cell_type": "code",
      "execution_count": 795,
      "metadata": {
        "colab": {
          "base_uri": "https://localhost:8080/"
        },
        "id": "_Dyb0Zs37h1t",
        "outputId": "08528cba-a30c-46ee-f3ef-eaebff692622"
      },
      "outputs": [
        {
          "data": {
            "text/plain": [
              "0       True\n",
              "1       True\n",
              "2       True\n",
              "3       True\n",
              "4       True\n",
              "        ... \n",
              "1465    True\n",
              "1466    True\n",
              "1467    True\n",
              "1468    True\n",
              "1469    True\n",
              "Name: Age, Length: 1462, dtype: bool"
            ]
          },
          "execution_count": 795,
          "metadata": {},
          "output_type": "execute_result"
        }
      ],
      "source": [
        "#as an age above 140 is not realistic, the outlier in age should be removed.\n",
        "(data_cleaned['Age']>=LowerFence) & (data_cleaned['Age']<=UpperFence)"
      ]
    },
    {
      "cell_type": "code",
      "execution_count": 796,
      "metadata": {
        "id": "o2XSGh-i-7EH"
      },
      "outputs": [],
      "source": [
        "#there are also outliers in the MonthlyIncome column, but a monthly salary of 20,000 is possible for high ranking employees such as CEO, CTO, CFO etc. Hence, the outliers should be kept as it may also be useful information for the model to learn from.\n",
        "data_cleaned = data_cleaned.loc[(data_cleaned['Age']>=LowerFence) & (data_cleaned['Age']<=UpperFence),:]"
      ]
    },
    {
      "cell_type": "code",
      "execution_count": 797,
      "metadata": {
        "colab": {
          "base_uri": "https://localhost:8080/"
        },
        "id": "o38JMitBlpl_",
        "outputId": "77c2d617-1094-4f69-cb7b-3963eb3c2dff"
      },
      "outputs": [
        {
          "data": {
            "text/plain": [
              "0       False\n",
              "1       False\n",
              "2       False\n",
              "3       False\n",
              "4       False\n",
              "        ...  \n",
              "1465    False\n",
              "1466    False\n",
              "1467    False\n",
              "1468    False\n",
              "1469    False\n",
              "Length: 1461, dtype: bool"
            ]
          },
          "execution_count": 797,
          "metadata": {},
          "output_type": "execute_result"
        }
      ],
      "source": [
        "#using the duplicated function to create a non-visual plot to find numerical duplicates\n",
        "data_cleaned.duplicated()"
      ]
    },
    {
      "cell_type": "code",
      "execution_count": 798,
      "metadata": {
        "colab": {
          "base_uri": "https://localhost:8080/"
        },
        "id": "5OXbWFwymft0",
        "outputId": "3269ed2c-3fd3-47df-ac7f-721093339216"
      },
      "outputs": [
        {
          "data": {
            "text/plain": [
              "0"
            ]
          },
          "execution_count": 798,
          "metadata": {},
          "output_type": "execute_result"
        }
      ],
      "source": [
        "#counting the number of numerical duplicates\n",
        "data_cleaned.duplicated().sum()"
      ]
    },
    {
      "cell_type": "code",
      "execution_count": 799,
      "metadata": {
        "colab": {
          "base_uri": "https://localhost:8080/"
        },
        "id": "4cs59K-YyzFj",
        "outputId": "2350e4e9-1d04-4c74-ea09-7620b9aaa1cc"
      },
      "outputs": [
        {
          "data": {
            "text/plain": [
              "EmployeeNumber        int64\n",
              "Age                   int64\n",
              "Attrition            object\n",
              "BusinessTravel       object\n",
              "DistanceFromHome      int64\n",
              "EducationField       object\n",
              "Gender               object\n",
              "MaritalStatus        object\n",
              "MonthlyIncome         int64\n",
              "JobSatisfaction     float64\n",
              "dtype: object"
            ]
          },
          "execution_count": 799,
          "metadata": {},
          "output_type": "execute_result"
        }
      ],
      "source": [
        "#checking on cleaned dataframe\n",
        "data_cleaned.dtypes"
      ]
    },
    {
      "cell_type": "code",
      "execution_count": 800,
      "metadata": {
        "id": "2amRF-V9y0jW"
      },
      "outputs": [],
      "source": [
        "#changing 'JobSatisfaction' datatype from float64 to int64\n",
        "data_cleaned = data_cleaned.astype({'JobSatisfaction':'int64'})"
      ]
    },
    {
      "cell_type": "code",
      "execution_count": 801,
      "metadata": {
        "colab": {
          "base_uri": "https://localhost:8080/"
        },
        "id": "eLHnoqQOy8j-",
        "outputId": "a7d6920d-cf1c-4dae-e38d-68ce9ff745ac"
      },
      "outputs": [
        {
          "data": {
            "text/plain": [
              "EmployeeNumber       int64\n",
              "Age                  int64\n",
              "Attrition           object\n",
              "BusinessTravel      object\n",
              "DistanceFromHome     int64\n",
              "EducationField      object\n",
              "Gender              object\n",
              "MaritalStatus       object\n",
              "MonthlyIncome        int64\n",
              "JobSatisfaction      int64\n",
              "dtype: object"
            ]
          },
          "execution_count": 801,
          "metadata": {},
          "output_type": "execute_result"
        }
      ],
      "source": [
        "#final check on cleaned dataframe\n",
        "data_cleaned.dtypes"
      ]
    },
    {
      "cell_type": "code",
      "execution_count": 802,
      "metadata": {
        "id": "eLdv5N7RzA8g"
      },
      "outputs": [],
      "source": [
        "data_cleaned.to_excel('HR-Employee-Attrition-Cleaned.xlsx')"
      ]
    },
    {
      "cell_type": "code",
      "execution_count": 803,
      "metadata": {
        "colab": {
          "base_uri": "https://localhost:8080/"
        },
        "id": "DP3fD0DOTh0l",
        "outputId": "fba18ef6-da3e-4c18-a576-03f0060aa25e"
      },
      "outputs": [
        {
          "name": "stdout",
          "output_type": "stream",
          "text": [
            "<class 'pandas.core.frame.DataFrame'>\n",
            "Int64Index: 235 entries, 0 to 1461\n",
            "Data columns (total 10 columns):\n",
            " #   Column            Non-Null Count  Dtype \n",
            "---  ------            --------------  ----- \n",
            " 0   EmployeeNumber    235 non-null    int64 \n",
            " 1   Age               235 non-null    int64 \n",
            " 2   Attrition         235 non-null    object\n",
            " 3   BusinessTravel    235 non-null    object\n",
            " 4   DistanceFromHome  235 non-null    int64 \n",
            " 5   EducationField    235 non-null    object\n",
            " 6   Gender            235 non-null    object\n",
            " 7   MaritalStatus     235 non-null    object\n",
            " 8   MonthlyIncome     235 non-null    int64 \n",
            " 9   JobSatisfaction   235 non-null    int64 \n",
            "dtypes: int64(5), object(5)\n",
            "memory usage: 20.2+ KB\n"
          ]
        }
      ],
      "source": [
        "#extracting yes answers from the 'Attrition' column\n",
        "att_yes = data_cleaned.loc[data_cleaned['Attrition'] == 'Yes',:]\n",
        "att_yes.info()"
      ]
    },
    {
      "cell_type": "code",
      "execution_count": 804,
      "metadata": {
        "colab": {
          "base_uri": "https://localhost:8080/"
        },
        "id": "dEj5gjp0kHLo",
        "outputId": "3049c0fe-02da-418c-e369-be40737068f6"
      },
      "outputs": [
        {
          "name": "stdout",
          "output_type": "stream",
          "text": [
            "<class 'pandas.core.frame.DataFrame'>\n",
            "Int64Index: 1226 entries, 1 to 1469\n",
            "Data columns (total 10 columns):\n",
            " #   Column            Non-Null Count  Dtype \n",
            "---  ------            --------------  ----- \n",
            " 0   EmployeeNumber    1226 non-null   int64 \n",
            " 1   Age               1226 non-null   int64 \n",
            " 2   Attrition         1226 non-null   object\n",
            " 3   BusinessTravel    1226 non-null   object\n",
            " 4   DistanceFromHome  1226 non-null   int64 \n",
            " 5   EducationField    1226 non-null   object\n",
            " 6   Gender            1226 non-null   object\n",
            " 7   MaritalStatus     1226 non-null   object\n",
            " 8   MonthlyIncome     1226 non-null   int64 \n",
            " 9   JobSatisfaction   1226 non-null   int64 \n",
            "dtypes: int64(5), object(5)\n",
            "memory usage: 105.4+ KB\n"
          ]
        }
      ],
      "source": [
        "#extracting no answers from the 'Attrition' column\n",
        "att_no = data_cleaned.loc[data_cleaned['Attrition'] == 'No',:]\n",
        "att_no.info()"
      ]
    },
    {
      "cell_type": "code",
      "execution_count": 805,
      "metadata": {
        "colab": {
          "base_uri": "https://localhost:8080/",
          "height": 292
        },
        "id": "puJRdP7rinIQ",
        "outputId": "0a9bc6e0-ffff-4b01-e4ea-5ba404d89b04"
      },
      "outputs": [
        {
          "data": {
            "image/png": "[encoded data removed]",
            "text/plain": [
              "<Figure size 432x288 with 1 Axes>"
            ]
          },
          "metadata": {
            "needs_background": "dark"
          },
          "output_type": "display_data"
        }
      ],
      "source": [
        "#using a bar plot to find any correlations between employee attrition and job satisfaction rating\n",
        "width=0.4\n",
        "att_yes.groupby('JobSatisfaction')['EmployeeNumber'].nunique().plot(kind='bar', color='green', width=width, position=0)\n",
        "att_no.groupby('JobSatisfaction')['EmployeeNumber'].nunique().plot(kind='bar', color='yellow', width=width, position=1)\n",
        "plt.legend(['Attrition','No Attrition'])\n",
        "plt.title('Number of employees with Attrition based on Job Satisfaction')\n",
        "plt.xlabel('Job Satisfaction')\n",
        "plt.ylabel('Number of Employees')\n",
        "plt.xticks(rotation = 0)\n",
        "plt.legend(facecolor='k')\n",
        "plt.show()\n",
        "#this bar plot shows that employees with low job satisfaction are more likely to have attrition and resign from the company"
      ]
    },
    {
      "cell_type": "code",
      "execution_count": 806,
      "metadata": {
        "colab": {
          "base_uri": "https://localhost:8080/",
          "height": 264
        },
        "id": "RsyieWImv0O-",
        "outputId": "7e4a27a4-ce53-4ff1-88e4-02c8c8d492ab"
      },
      "outputs": [
        {
          "data": {
            "image/png": "[encoded data removed]",
            "text/plain": [
              "<Figure size 432x288 with 1 Axes>"
            ]
          },
          "metadata": {},
          "output_type": "display_data"
        }
      ],
      "source": [
        "#using a pie chart plot to find any correlations between employee attrition and marital status\n",
        "att_yes.groupby('MaritalStatus')['EmployeeNumber'].nunique().plot(kind ='pie', autopct ='%1.1f%%', ylabel = '', title = \"Marital Status of employees with Attrition\", startangle = 270)\n",
        "plt.show()\n",
        "#this pie chart shows that employees of single marital status are most likely to have attrition resign from the company"
      ]
    }
  ],
  "metadata": {
    "colab": {
      "collapsed_sections": [],
      "include_colab_link": true,
      "name": "Copy of Keith_Chan_ITB_TI031.ipynb",
      "provenance": []
    },
    "kernelspec": {
      "display_name": "Python 3.9.7 ('base')",
      "language": "python",
      "name": "python3"
    },
    "language_info": {
      "codemirror_mode": {
        "name": "ipython",
        "version": 3
      },
      "file_extension": ".py",
      "mimetype": "text/x-python",
      "name": "python",
      "nbconvert_exporter": "python",
      "pygments_lexer": "ipython3",
      "version": "3.9.7"
    },
    "vscode": {
      "interpreter": {
        "hash": "e4cce46d6be9934fbd27f9ca0432556941ea5bdf741d4f4d64c6cd7f8dfa8fba"
      }
    }
  },
  "nbformat": 4,
  "nbformat_minor": 0
}
